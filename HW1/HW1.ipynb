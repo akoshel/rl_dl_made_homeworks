{
 "cells": [
  {
   "cell_type": "markdown",
   "id": "ad325456",
   "metadata": {},
   "source": [
    "# Кошелев Александр"
   ]
  },
  {
   "cell_type": "markdown",
   "id": "d25d3be4",
   "metadata": {},
   "source": [
    "# Imports"
   ]
  },
  {
   "cell_type": "code",
   "execution_count": 1,
   "id": "ee2bd51f",
   "metadata": {
    "ExecuteTime": {
     "end_time": "2021-10-22T06:29:15.871954Z",
     "start_time": "2021-10-22T06:29:15.452168Z"
    }
   },
   "outputs": [],
   "source": [
    "import gym\n",
    "from gym import spaces\n",
    "from gym.utils import seeding\n",
    "import matplotlib.pyplot as plt\n",
    "from abc import ABC, abstractmethod\n",
    "from loguru import logger\n",
    "from collections import defaultdict\n",
    "from copy import deepcopy\n",
    "import numpy as np"
   ]
  },
  {
   "cell_type": "code",
   "execution_count": 2,
   "id": "080c29e8",
   "metadata": {
    "ExecuteTime": {
     "end_time": "2021-10-22T06:29:15.876453Z",
     "start_time": "2021-10-22T06:29:15.873649Z"
    }
   },
   "outputs": [],
   "source": [
    "def moving_average(x, w):\n",
    "    return np.convolve(x, np.ones(w), 'valid') / w"
   ]
  },
  {
   "cell_type": "code",
   "execution_count": 3,
   "id": "2680876e",
   "metadata": {
    "ExecuteTime": {
     "end_time": "2021-10-22T06:29:15.887650Z",
     "start_time": "2021-10-22T06:29:15.878780Z"
    }
   },
   "outputs": [],
   "source": [
    "class BlackJackGamer(ABC):\n",
    "    \n",
    "    def __init__(self, env, epsilon) -> None:\n",
    "        self.env = env\n",
    "        self.epsilon = epsilon\n",
    "        \n",
    "    @abstractmethod\n",
    "    def run_episode(self):\n",
    "        ...\n",
    "             \n",
    "    @abstractmethod\n",
    "    def policy(self, observation, epsilon) -> int:\n",
    "        ...\n",
    "        \n",
    "    @abstractmethod\n",
    "    def evaluate_episode(self):\n",
    "        ..."
   ]
  },
  {
   "cell_type": "markdown",
   "id": "923921e4",
   "metadata": {},
   "source": [
    "# Пункт 1"
   ]
  },
  {
   "cell_type": "code",
   "execution_count": 4,
   "id": "10d87679",
   "metadata": {
    "ExecuteTime": {
     "end_time": "2021-10-22T06:29:15.899784Z",
     "start_time": "2021-10-22T06:29:15.889739Z"
    }
   },
   "outputs": [
    {
     "data": {
      "text/plain": [
       "(12, 4, False)"
      ]
     },
     "execution_count": 4,
     "metadata": {},
     "output_type": "execute_result"
    }
   ],
   "source": [
    "env = gym.make(\"Blackjack-v1\")\n",
    "env.reset()"
   ]
  },
  {
   "cell_type": "markdown",
   "id": "e862172a",
   "metadata": {},
   "source": [
    "## Simple Player"
   ]
  },
  {
   "cell_type": "code",
   "execution_count": 5,
   "id": "4c391f98",
   "metadata": {
    "ExecuteTime": {
     "end_time": "2021-10-22T06:29:15.909251Z",
     "start_time": "2021-10-22T06:29:15.901257Z"
    }
   },
   "outputs": [],
   "source": [
    "class SimplePlayer(BlackJackGamer):\n",
    "    \n",
    "    def run_episode(self):\n",
    "        states, actions, rewards = [], [], []\n",
    "        observation = self.env.reset()\n",
    "        while True:\n",
    "            states.append(observation)\n",
    "            action = self.policy(observation)\n",
    "            actions.append(action)\n",
    "            observation, reward, done, info = self.env.step(action)\n",
    "            rewards.append(reward)\n",
    "            if done:\n",
    "                return states, actions, rewards\n",
    "            \n",
    "    def policy(self, observation, epsilon=0) -> int:\n",
    "        score, dealer_score, usable_ace = observation\n",
    "        return 0 if score >= 19 else 1\n",
    "    \n",
    "    def evaluate_episode(self):\n",
    "        states, actions, rewards = [], [], []\n",
    "        observation = self.env.reset()\n",
    "        while True:\n",
    "            states.append(observation)\n",
    "            action = self.policy(observation, 0)\n",
    "            actions.append(action)\n",
    "            observation, reward, done, info = self.env.step(action)\n",
    "            rewards.append(reward)\n",
    "            if done:\n",
    "                return states, actions, rewards "
   ]
  },
  {
   "cell_type": "code",
   "execution_count": 6,
   "id": "58a037dd",
   "metadata": {
    "ExecuteTime": {
     "end_time": "2021-10-22T06:29:15.915340Z",
     "start_time": "2021-10-22T06:29:15.911308Z"
    }
   },
   "outputs": [],
   "source": [
    "simple_player = SimplePlayer(env, 0)"
   ]
  },
  {
   "cell_type": "code",
   "execution_count": 7,
   "id": "181c1965",
   "metadata": {
    "ExecuteTime": {
     "end_time": "2021-10-22T06:29:15.935088Z",
     "start_time": "2021-10-22T06:29:15.916984Z"
    }
   },
   "outputs": [],
   "source": [
    "states, actions, rewards = simple_player.run_episode()"
   ]
  },
  {
   "cell_type": "code",
   "execution_count": 8,
   "id": "99fb0980",
   "metadata": {
    "ExecuteTime": {
     "end_time": "2021-10-22T06:29:41.838588Z",
     "start_time": "2021-10-22T06:29:15.937346Z"
    }
   },
   "outputs": [],
   "source": [
    "gain = []\n",
    "for _ in range(300000):\n",
    "    states, actions, rewards = simple_player.run_episode()\n",
    "    gain.append(rewards[-1])"
   ]
  },
  {
   "cell_type": "code",
   "execution_count": 9,
   "id": "2817a16f",
   "metadata": {
    "ExecuteTime": {
     "end_time": "2021-10-22T06:29:51.387959Z",
     "start_time": "2021-10-22T06:29:41.840483Z"
    }
   },
   "outputs": [],
   "source": [
    "gain_eval = []\n",
    "for _ in range(100000):\n",
    "    states, actions, rewards = simple_player.evaluate_episode()\n",
    "    gain_eval.append(rewards[-1])"
   ]
  },
  {
   "cell_type": "code",
   "execution_count": 10,
   "id": "3bee7f19",
   "metadata": {
    "ExecuteTime": {
     "end_time": "2021-10-22T06:29:51.400562Z",
     "start_time": "2021-10-22T06:29:51.389635Z"
    }
   },
   "outputs": [
    {
     "data": {
      "text/plain": [
       "-0.19673"
      ]
     },
     "execution_count": 10,
     "metadata": {},
     "output_type": "execute_result"
    }
   ],
   "source": [
    "np.mean(gain_eval)"
   ]
  },
  {
   "cell_type": "code",
   "execution_count": 11,
   "id": "f5708bd2",
   "metadata": {
    "ExecuteTime": {
     "end_time": "2021-10-22T06:29:51.640159Z",
     "start_time": "2021-10-22T06:29:51.402281Z"
    }
   },
   "outputs": [
    {
     "data": {
      "text/plain": [
       "[<matplotlib.lines.Line2D at 0x7f703b854a90>]"
      ]
     },
     "execution_count": 11,
     "metadata": {},
     "output_type": "execute_result"
    },
    {
     "data": {
      "image/png": "[encoded data removed]",
      "text/plain": [
       "<Figure size 432x288 with 1 Axes>"
      ]
     },
     "metadata": {
      "needs_background": "light"
     },
     "output_type": "display_data"
    }
   ],
   "source": [
    "# plt.plot(gain_n.mean(axis=dd1)[:100])\n",
    "plt.plot(moving_average(gain, 100))"
   ]
  },
  {
   "cell_type": "markdown",
   "id": "b8da4ac5",
   "metadata": {
    "ExecuteTime": {
     "end_time": "2021-10-10T09:53:30.577573Z",
     "start_time": "2021-10-10T09:53:30.571567Z"
    }
   },
   "source": [
    "## Q-learning Player"
   ]
  },
  {
   "cell_type": "code",
   "execution_count": 12,
   "id": "a5013fac",
   "metadata": {
    "ExecuteTime": {
     "end_time": "2021-10-22T06:29:51.654239Z",
     "start_time": "2021-10-22T06:29:51.641827Z"
    }
   },
   "outputs": [],
   "source": [
    "class QLearningPlayer(BlackJackGamer):\n",
    "    \n",
    "    def __init__(self, env, epsilon, lr, gamma) -> None:\n",
    "        super(QLearningPlayer, self).__init__(env, epsilon)\n",
    "        self.Q = {}\n",
    "        self.lr = lr\n",
    "        self.gamma = gamma\n",
    "        \n",
    "    def init_random_Q(self):\n",
    "        self.Q = {}\n",
    "        for i in range(12):\n",
    "            self.Q[i] = np.array([0, 1])\n",
    "        for i in range(22, 32):\n",
    "            self.Q[i] = np.array([0, 0])\n",
    "        for i in range(12, 22):\n",
    "            self.Q[i] = np.random.random(2)\n",
    "        self.Q[21][1] = 0\n",
    "        self.Q[21][0] = 1\n",
    "        \n",
    "            \n",
    "    def run_episode(self):\n",
    "        states, actions, rewards = [], [], []\n",
    "        observation = self.env.reset()\n",
    "        s, _, __ = observation \n",
    "        action = self.policy(observation, self.epsilon)\n",
    "        while True:\n",
    "            states.append(s)        \n",
    "            actions.append(action)\n",
    "            observation, reward, done, info = self.env.step(action)\n",
    "            s_prime, _, __ = observation\n",
    "            a_prime = self.policy(observation, self.epsilon)\n",
    "            if s > 12 and s < 21:\n",
    "                self.Q[s][action] = self.Q[s][action] + self.lr * (reward + self.gamma * np.max(self.Q[s_prime]) - self.Q[s][action])\n",
    "            s, action = s_prime, a_prime\n",
    "            rewards.append(reward)\n",
    "            if done:\n",
    "                return states, actions, rewards              \n",
    "    \n",
    "    def policy(self, observation, epsilon=0.1) -> int:\n",
    "        score, dealer_score, usable_ace = observation\n",
    "        if score > 21:\n",
    "            return 0\n",
    "        if np.random.random() < epsilon:\n",
    "            return np.random.choice([0, 1]) \n",
    "        return np.argmax(self.Q[score])\n",
    "    \n",
    "    def evaluate_episode(self):\n",
    "        states, actions, rewards = [], [], []\n",
    "        observation = self.env.reset()\n",
    "        while True:\n",
    "            states.append(observation)\n",
    "            action = self.policy(observation, 0)\n",
    "            actions.append(action)\n",
    "            observation, reward, done, info = self.env.step(action)\n",
    "            rewards.append(reward)\n",
    "            if done:\n",
    "                return states, actions, rewards "
   ]
  },
  {
   "cell_type": "code",
   "execution_count": 13,
   "id": "a397d669",
   "metadata": {
    "ExecuteTime": {
     "end_time": "2021-10-22T06:29:51.666678Z",
     "start_time": "2021-10-22T06:29:51.656219Z"
    }
   },
   "outputs": [],
   "source": [
    "qlearningplayer = QLearningPlayer(env, 0.1, 0.0001, 0.8)"
   ]
  },
  {
   "cell_type": "code",
   "execution_count": 14,
   "id": "24089168",
   "metadata": {
    "ExecuteTime": {
     "end_time": "2021-10-22T06:29:51.673048Z",
     "start_time": "2021-10-22T06:29:51.669740Z"
    }
   },
   "outputs": [],
   "source": [
    "qlearningplayer.init_random_Q()"
   ]
  },
  {
   "cell_type": "code",
   "execution_count": 15,
   "id": "b9689520",
   "metadata": {
    "ExecuteTime": {
     "end_time": "2021-10-22T06:30:27.768932Z",
     "start_time": "2021-10-22T06:29:51.674553Z"
    }
   },
   "outputs": [],
   "source": [
    "gain = []\n",
    "for _ in range(300000):\n",
    "    states, actions, rewards = qlearningplayer.run_episode()\n",
    "    gain.append(rewards[-1])"
   ]
  },
  {
   "cell_type": "code",
   "execution_count": 16,
   "id": "1e1a0a67",
   "metadata": {
    "ExecuteTime": {
     "end_time": "2021-10-22T06:30:39.578252Z",
     "start_time": "2021-10-22T06:30:27.770631Z"
    }
   },
   "outputs": [],
   "source": [
    "gain_eval = []\n",
    "for _ in range(100000):\n",
    "    states, actions, rewards = qlearningplayer.evaluate_episode()\n",
    "    gain_eval.append(rewards[-1])"
   ]
  },
  {
   "cell_type": "code",
   "execution_count": 17,
   "id": "93315834",
   "metadata": {
    "ExecuteTime": {
     "end_time": "2021-10-22T06:30:39.590653Z",
     "start_time": "2021-10-22T06:30:39.579952Z"
    }
   },
   "outputs": [
    {
     "data": {
      "text/plain": [
       "-0.1225"
      ]
     },
     "execution_count": 17,
     "metadata": {},
     "output_type": "execute_result"
    }
   ],
   "source": [
    "np.mean(gain_eval)"
   ]
  },
  {
   "cell_type": "code",
   "execution_count": 18,
   "id": "a85dc75f",
   "metadata": {
    "ExecuteTime": {
     "end_time": "2021-10-22T06:30:39.822091Z",
     "start_time": "2021-10-22T06:30:39.592732Z"
    }
   },
   "outputs": [
    {
     "data": {
      "text/plain": [
       "[<matplotlib.lines.Line2D at 0x7f703b3b4250>]"
      ]
     },
     "execution_count": 18,
     "metadata": {},
     "output_type": "execute_result"
    },
    {
     "data": {
      "image/png": "[encoded data removed]",
      "text/plain": [
       "<Figure size 432x288 with 1 Axes>"
      ]
     },
     "metadata": {
      "needs_background": "light"
     },
     "output_type": "display_data"
    }
   ],
   "source": [
    "plt.plot(moving_average(gain, 1000))"
   ]
  },
  {
   "cell_type": "code",
   "execution_count": 19,
   "id": "0b35834e",
   "metadata": {
    "ExecuteTime": {
     "end_time": "2021-10-22T06:54:11.588376Z",
     "start_time": "2021-10-22T06:30:39.823792Z"
    }
   },
   "outputs": [
    {
     "name": "stdout",
     "output_type": "stream",
     "text": [
      "epsilon 0.1 LR: 0.0001, Gamma: 0.4, mean gain -0.07578\n",
      "epsilon 0.1 LR: 0.0001, Gamma: 0.8, mean gain -0.1207\n",
      "epsilon 0.1 LR: 0.001, Gamma: 0.4, mean gain -0.0749\n",
      "epsilon 0.1 LR: 0.001, Gamma: 0.8, mean gain -0.10801\n",
      "epsilon 0.1 LR: 0.01, Gamma: 0.4, mean gain -0.11608\n",
      "epsilon 0.1 LR: 0.01, Gamma: 0.8, mean gain -0.10766\n",
      "epsilon 0.1 LR: 0.1, Gamma: 0.4, mean gain -0.11038\n",
      "epsilon 0.1 LR: 0.1, Gamma: 0.8, mean gain -0.10273\n",
      "epsilon 0.2 LR: 0.0001, Gamma: 0.4, mean gain -0.08201\n",
      "epsilon 0.2 LR: 0.0001, Gamma: 0.8, mean gain -0.11016\n",
      "epsilon 0.2 LR: 0.001, Gamma: 0.4, mean gain -0.08905\n",
      "epsilon 0.2 LR: 0.001, Gamma: 0.8, mean gain -0.11464\n",
      "epsilon 0.2 LR: 0.01, Gamma: 0.4, mean gain -0.09047\n",
      "epsilon 0.2 LR: 0.01, Gamma: 0.8, mean gain -0.10471\n",
      "epsilon 0.2 LR: 0.1, Gamma: 0.4, mean gain -0.12062\n",
      "epsilon 0.2 LR: 0.1, Gamma: 0.8, mean gain -0.20096\n",
      "BEST epsilon 0.1 LR: 0.001, Gamma: 0.4, mean gain -0.0749\n"
     ]
    }
   ],
   "source": [
    "best_gain = -1\n",
    "for epsilon in [0.1, 0.2]:\n",
    "    for lr in [0.0001, 0.001, 0.01, 0.1]:\n",
    "        for gamma in [0.4, 0.8]:\n",
    "            qlearningplayer = QLearningPlayer(env, epsilon, lr, gamma)\n",
    "            qlearningplayer.init_random_Q()\n",
    "            gain = []\n",
    "            eval_gain = []\n",
    "            for _ in range(500000):\n",
    "                states, actions, rewards = qlearningplayer.run_episode()\n",
    "                gain.append(rewards[-1])\n",
    "            for _ in range(100000):\n",
    "                states, actions, rewards = qlearningplayer.evaluate_episode()\n",
    "                eval_gain.append(rewards[-1])\n",
    "            mean_gain = np.mean(eval_gain)\n",
    "            print(f\"epsilon {epsilon} LR: {lr}, Gamma: {gamma}, mean gain {mean_gain}\")\n",
    "            if mean_gain > best_gain:\n",
    "                best_gamma = gamma\n",
    "                best_lr = lr\n",
    "                best_gain = mean_gain\n",
    "                best_epsilon = epsilon\n",
    "print(f\"BEST epsilon {best_epsilon} LR: {best_lr}, Gamma: {best_gamma}, mean gain {best_gain}\")"
   ]
  },
  {
   "cell_type": "markdown",
   "id": "99b0bfc9",
   "metadata": {},
   "source": [
    "## Выводы пункт 1"
   ]
  },
  {
   "cell_type": "markdown",
   "id": "8ad3617d",
   "metadata": {
    "ExecuteTime": {
     "end_time": "2021-10-11T16:58:20.110847Z",
     "start_time": "2021-10-11T16:58:20.106629Z"
    }
   },
   "source": [
    "Средний проигрыш наивного игрока 0.2 <br>\n",
    "Средний проигрыш Qlearning игрока (с параметрами epsilon=0.1, lr=0.001, gamma=0,4) 0.0749 <br>"
   ]
  },
  {
   "cell_type": "markdown",
   "id": "3173b902",
   "metadata": {},
   "source": [
    "# Пункт 2"
   ]
  },
  {
   "cell_type": "code",
   "execution_count": 20,
   "id": "fa786741",
   "metadata": {
    "ExecuteTime": {
     "end_time": "2021-10-22T06:54:11.613292Z",
     "start_time": "2021-10-22T06:54:11.591387Z"
    }
   },
   "outputs": [],
   "source": [
    "class QDoublePlayer(BlackJackGamer):\n",
    "    \n",
    "    def __init__(self, env, epsilon, lr, gamma) -> None:\n",
    "        super(QDoublePlayer, self).__init__(env, epsilon)\n",
    "        self.Q = {}\n",
    "        self.lr = lr\n",
    "        self.gamma = gamma\n",
    "        self.last_action = 0\n",
    "        \n",
    "    def init_random_Q(self):\n",
    "        self.Q = {}\n",
    "        for i in range(12):\n",
    "            self.Q[i] = np.array([0, 1, 0])\n",
    "        for i in range(22, 32):\n",
    "            self.Q[i] = np.array([0, 0, 0])\n",
    "        for i in range(12, 22):\n",
    "            self.Q[i] = np.random.random(3)\n",
    "        self.Q[21][2] = 0\n",
    "        self.Q[21][1] = 0\n",
    "        self.Q[21][0] = 1\n",
    "        \n",
    "    \n",
    "    def run_episode(self):\n",
    "        states, actions, rewards = [], [], []\n",
    "        observation = self.env.reset()\n",
    "        s, _, __ = observation \n",
    "        action = self.policy(observation, self.epsilon)\n",
    "        while True:\n",
    "            states.append(s)        \n",
    "            actions.append(action)\n",
    "            observation, reward, done, info = self.new_step(action)\n",
    "            s_prime, _, __ = observation\n",
    "            a_prime = self.policy(observation, self.epsilon)\n",
    "            if s > 12 and s < 21:\n",
    "                self.Q[s][action] = self.Q[s][action] + self.lr * (reward + self.gamma * np.max(self.Q[s_prime]) - self.Q[s][action])\n",
    "            s, action = s_prime, a_prime\n",
    "            rewards.append(reward)\n",
    "            if done:\n",
    "                return states, actions, rewards              \n",
    "    \n",
    "    def policy(self, observation, epsilon=0.1) -> int:\n",
    "        score, dealer_score, usable_ace = observation\n",
    "        if self.last_action == 2:\n",
    "            action = 0\n",
    "        else:\n",
    "            if np.random.random() < epsilon:\n",
    "                action = np.random.choice([0, 1, 2])\n",
    "            else:\n",
    "                action = np.argmax(self.Q[score])\n",
    "        self.last_action = action\n",
    "        return action\n",
    "    \n",
    "    def new_step(self, action):\n",
    "        action_for_env = action if action != 2 else 1\n",
    "        observation, reward, done, info = self.env.step(action_for_env)\n",
    "        if action == 2:\n",
    "            reward *= 2\n",
    "        return observation, reward, done, info\n",
    "    \n",
    "    def evaluate_episode(self):\n",
    "        states, actions, rewards = [], [], []\n",
    "        observation = self.env.reset()\n",
    "        while True:\n",
    "            states.append(observation)\n",
    "            action = self.policy(observation, 0)\n",
    "            actions.append(action)\n",
    "            observation, reward, done, info = self.new_step(action)\n",
    "            rewards.append(reward)\n",
    "            if done:\n",
    "                return states, actions, rewards "
   ]
  },
  {
   "cell_type": "code",
   "execution_count": 21,
   "id": "b80d891e",
   "metadata": {
    "ExecuteTime": {
     "end_time": "2021-10-22T06:54:59.142547Z",
     "start_time": "2021-10-22T06:54:11.615245Z"
    }
   },
   "outputs": [],
   "source": [
    "qdoubleplayer = QDoublePlayer(env, 0.1, 0.001, 0.8)\n",
    "qdoubleplayer.init_random_Q()\n",
    "gain = []\n",
    "for _ in range(300000):\n",
    "    states, actions, rewards = qdoubleplayer.run_episode()\n",
    "    gain.append(rewards[-1])"
   ]
  },
  {
   "cell_type": "code",
   "execution_count": 22,
   "id": "28433e26",
   "metadata": {
    "ExecuteTime": {
     "end_time": "2021-10-22T06:55:11.748990Z",
     "start_time": "2021-10-22T06:54:59.144545Z"
    }
   },
   "outputs": [
    {
     "data": {
      "text/plain": [
       "-0.1407"
      ]
     },
     "execution_count": 22,
     "metadata": {},
     "output_type": "execute_result"
    }
   ],
   "source": [
    "gain_eval = []\n",
    "for _ in range(100000):\n",
    "    states, actions, rewards = qdoubleplayer.evaluate_episode()\n",
    "    gain_eval.append(rewards[-1])\n",
    "\n",
    "np.mean(gain_eval)"
   ]
  },
  {
   "cell_type": "code",
   "execution_count": 23,
   "id": "2e133fd3",
   "metadata": {
    "ExecuteTime": {
     "end_time": "2021-10-22T06:55:12.041890Z",
     "start_time": "2021-10-22T06:55:11.755569Z"
    }
   },
   "outputs": [
    {
     "data": {
      "text/plain": [
       "[<matplotlib.lines.Line2D at 0x7f703b6513d0>]"
      ]
     },
     "execution_count": 23,
     "metadata": {},
     "output_type": "execute_result"
    },
    {
     "data": {
      "image/png": "[encoded data removed]",
      "text/plain": [
       "<Figure size 432x288 with 1 Axes>"
      ]
     },
     "metadata": {
      "needs_background": "light"
     },
     "output_type": "display_data"
    }
   ],
   "source": [
    "plt.plot(moving_average(gain, 1000))"
   ]
  },
  {
   "cell_type": "code",
   "execution_count": 24,
   "id": "7e88ad8d",
   "metadata": {
    "ExecuteTime": {
     "end_time": "2021-10-22T07:19:09.512302Z",
     "start_time": "2021-10-22T06:55:12.044945Z"
    }
   },
   "outputs": [
    {
     "name": "stdout",
     "output_type": "stream",
     "text": [
      "epsilon 0.1 LR: 0.0001, Gamma: 0.4, mean gain -0.08797\n",
      "epsilon 0.1 LR: 0.0001, Gamma: 0.8, mean gain -0.10259\n",
      "epsilon 0.1 LR: 0.001, Gamma: 0.4, mean gain -0.07308\n",
      "epsilon 0.1 LR: 0.001, Gamma: 0.8, mean gain -0.12161\n",
      "epsilon 0.1 LR: 0.01, Gamma: 0.4, mean gain -0.11365\n",
      "epsilon 0.1 LR: 0.01, Gamma: 0.8, mean gain -0.11652\n",
      "epsilon 0.1 LR: 0.1, Gamma: 0.4, mean gain -0.14431\n",
      "epsilon 0.1 LR: 0.1, Gamma: 0.8, mean gain -0.22614\n",
      "epsilon 0.2 LR: 0.0001, Gamma: 0.4, mean gain -0.11477\n",
      "epsilon 0.2 LR: 0.0001, Gamma: 0.8, mean gain -0.1151\n",
      "epsilon 0.2 LR: 0.001, Gamma: 0.4, mean gain -0.07548\n",
      "epsilon 0.2 LR: 0.001, Gamma: 0.8, mean gain -0.14231\n",
      "epsilon 0.2 LR: 0.01, Gamma: 0.4, mean gain -0.11625\n",
      "epsilon 0.2 LR: 0.01, Gamma: 0.8, mean gain -0.10868\n",
      "epsilon 0.2 LR: 0.1, Gamma: 0.4, mean gain -0.12155\n",
      "epsilon 0.2 LR: 0.1, Gamma: 0.8, mean gain -0.11053\n",
      "BEST epsilon 0.1 LR: 0.001, Gamma: 0.4, mean gain -0.07308\n"
     ]
    }
   ],
   "source": [
    "best_gain = -1\n",
    "for epsilon in [0.1, 0.2]:\n",
    "    for lr in [0.0001, 0.001, 0.01, 0.1]:\n",
    "        for gamma in [0.4, 0.8]:\n",
    "            qdoubleplayer = QDoublePlayer(env, epsilon, lr, gamma)\n",
    "            qdoubleplayer.init_random_Q()\n",
    "            gain = []\n",
    "            eval_gain = []\n",
    "            for _ in range(500000):\n",
    "                states, actions, rewards = qdoubleplayer.run_episode()\n",
    "                gain.append(rewards[-1])\n",
    "            for _ in range(100000):\n",
    "                states, actions, rewards = qdoubleplayer.evaluate_episode()\n",
    "                eval_gain.append(rewards[-1])\n",
    "            mean_gain = np.mean(eval_gain)\n",
    "            print(f\"epsilon {epsilon} LR: {lr}, Gamma: {gamma}, mean gain {mean_gain}\")\n",
    "            if mean_gain > best_gain:\n",
    "                best_gamma = gamma\n",
    "                best_lr = lr\n",
    "                best_gain = mean_gain\n",
    "                best_epsilon = epsilon\n",
    "print(f\"BEST epsilon {best_epsilon} LR: {best_lr}, Gamma: {best_gamma}, mean gain {best_gain}\")"
   ]
  },
  {
   "cell_type": "markdown",
   "id": "39caf7d4",
   "metadata": {},
   "source": [
    "## Выводы пункт 2"
   ]
  },
  {
   "cell_type": "markdown",
   "id": "bf9c2cfb",
   "metadata": {
    "ExecuteTime": {
     "end_time": "2021-10-17T10:39:57.861984Z",
     "start_time": "2021-10-17T10:39:57.856852Z"
    }
   },
   "source": [
    "Средний проигрыш Qdouble игрока (с параметрами epsilon=0.1, lr=0.001, gamma=0,4) 0.07308 <br>"
   ]
  },
  {
   "cell_type": "markdown",
   "id": "640e2582",
   "metadata": {},
   "source": [
    "# Пункт 3"
   ]
  },
  {
   "cell_type": "markdown",
   "id": "a0505514",
   "metadata": {},
   "source": [
    "В этот раз не получилось воспользоваться готовой средой, поэтому возьмем из задания. Для подсчета карт использовал стратегию  «Плюс-минус»  https://ru.wikipedia.org/wiki/%D0%91%D0%BB%D1%8D%D0%BA%D0%B4%D0%B6%D0%B5%D0%BA"
   ]
  },
  {
   "cell_type": "code",
   "execution_count": 25,
   "id": "c3821865",
   "metadata": {
    "ExecuteTime": {
     "end_time": "2021-10-22T07:19:09.540039Z",
     "start_time": "2021-10-22T07:19:09.514618Z"
    }
   },
   "outputs": [],
   "source": [
    "def cmp(a, b):\n",
    "    return float(a > b) - float(a < b)\n",
    "\n",
    "class BlackjackDoubleCountingEnv(gym.Env):\n",
    "    \n",
    "    def __init__(self):\n",
    "        self.plus_minus_count = {\n",
    "            2: 1,\n",
    "            3: 1,\n",
    "            4: 1,\n",
    "            5: 1,\n",
    "            6: 1,\n",
    "            7: 0,\n",
    "            8: 0,\n",
    "            9: 0,\n",
    "            10: -1,\n",
    "            11: -1,\n",
    "        }\n",
    "        self.action_space = spaces.Discrete(3)\n",
    "        self.observation_space = spaces.Tuple((\n",
    "            spaces.Discrete(32),\n",
    "            spaces.Discrete(11),\n",
    "            spaces.Discrete(2),\n",
    "            spaces.Discrete(42)))\n",
    "        self.seed()\n",
    "        self.full_deck = [2, 3, 4, 5, 6, 7, 8, 9, 10, 10, 10, 10, 11] * 4\n",
    "        self.deck = deepcopy(self.full_deck)\n",
    "        self.count = 0\n",
    "        self.reset()\n",
    "\n",
    "\n",
    "    def seed(self, seed=None):\n",
    "        self.np_random, seed = seeding.np_random(seed)\n",
    "        return [seed]\n",
    "\n",
    "\n",
    "    def step(self, action):\n",
    "        assert self.action_space.contains(action)\n",
    "        if action == 1:  # hit: add a card to players hand and return\n",
    "            card = self.draw_card()\n",
    "            self.count_card(card)\n",
    "            self.player.append(card)\n",
    "            if self.is_bust(self.player):\n",
    "                done = True\n",
    "                reward = -1.\n",
    "            else:\n",
    "                done = False\n",
    "                reward = 0.\n",
    "        elif action == 0:\n",
    "            done = True\n",
    "            while self.sum_hand(self.dealer) < 17:\n",
    "                self.dealer.append(self.draw_card())\n",
    "            for card in self.dealer[1:]:\n",
    "                self.count_card(card)\n",
    "            reward = cmp(self.score(self.player), self.score(self.dealer))\n",
    "\n",
    "        elif action == 2:\n",
    "            card = self.draw_card()\n",
    "            self.count_card(card)\n",
    "            self.player.append(card)\n",
    "            done = True\n",
    "            while self.sum_hand(self.dealer) < 17:\n",
    "                self.dealer.append(self.draw_card())\n",
    "            for card in self.dealer[1:]:\n",
    "                self.count_card(card)\n",
    "            reward = cmp(self.score(self.player), self.score(self.dealer)) * 2\n",
    "            \n",
    "        return self._get_obs(), reward, done, {}\n",
    "\n",
    "    def _get_obs(self):\n",
    "        return (self.sum_hand(self.player), self.dealer[0], False, self.count)\n",
    "    \n",
    "    def count_card(self, card):\n",
    "        self.count += self.plus_minus_count[card] \n",
    "\n",
    "    def reset(self):\n",
    "        if len(self.deck) < 15:\n",
    "            self.deck = deepcopy(self.full_deck)\n",
    "            self.count = 0\n",
    "        self.dealer = self.draw_hand()\n",
    "        self.count_card(self.dealer[0])\n",
    "        self.player = self.draw_hand()\n",
    "        self.count_card(self.player[0])\n",
    "        self.count_card(self.player[1])\n",
    "        return self._get_obs()\n",
    "    \n",
    "    def draw_card(self):\n",
    "        card = np.random.choice(self.deck)\n",
    "        self.deck.remove(card)\n",
    "        return card\n",
    "\n",
    "\n",
    "    def draw_hand(self):\n",
    "        return [self.draw_card(), self.draw_card()]\n",
    "    \n",
    "    @staticmethod\n",
    "    def sum_hand(hand):\n",
    "        return sum(hand)\n",
    "    \n",
    "    def is_bust(self, hand):  # Is this hand a bust?\n",
    "        return self.sum_hand(hand) > 21\n",
    "    \n",
    "    def score(self, hand):  # What is the score of this hand (0 if bust)\n",
    "        return 0 if self.is_bust(hand) else self.sum_hand(hand)"
   ]
  },
  {
   "cell_type": "code",
   "execution_count": 26,
   "id": "76dc1b20",
   "metadata": {
    "ExecuteTime": {
     "end_time": "2021-10-22T07:19:09.553369Z",
     "start_time": "2021-10-22T07:19:09.542392Z"
    }
   },
   "outputs": [],
   "source": [
    "custom_env = BlackjackDoubleCountingEnv()"
   ]
  },
  {
   "cell_type": "code",
   "execution_count": 27,
   "id": "8ee05d2e",
   "metadata": {
    "ExecuteTime": {
     "end_time": "2021-10-22T07:19:09.561653Z",
     "start_time": "2021-10-22T07:19:09.555545Z"
    }
   },
   "outputs": [
    {
     "data": {
      "text/plain": [
       "(14, 10, False, 1)"
      ]
     },
     "execution_count": 27,
     "metadata": {},
     "output_type": "execute_result"
    }
   ],
   "source": [
    "custom_env.reset()"
   ]
  },
  {
   "cell_type": "code",
   "execution_count": 28,
   "id": "3131f545",
   "metadata": {
    "ExecuteTime": {
     "end_time": "2021-10-22T07:19:09.579605Z",
     "start_time": "2021-10-22T07:19:09.565093Z"
    }
   },
   "outputs": [],
   "source": [
    "class QDustinPlayer(BlackJackGamer):\n",
    "    \n",
    "    def __init__(self, env, epsilon, lr, gamma) -> None:\n",
    "        super(QDustinPlayer, self).__init__(env, epsilon)\n",
    "        self.Q = {}\n",
    "        self.lr = lr\n",
    "        self.gamma = gamma\n",
    "        self.last_action = 0\n",
    "        \n",
    "    def init_random_Q(self):\n",
    "        self.Q = defaultdict(dict)\n",
    "        for counter in range(-22, 23):\n",
    "            for i in range(12):\n",
    "                self.Q[counter][i] = np.array([0, 1, 0])\n",
    "            for i in range(22, 32):\n",
    "                self.Q[counter][i] = np.array([0, 0, 0])\n",
    "            for i in range(12, 22):\n",
    "                self.Q[counter][i] = np.random.random(3)\n",
    "            self.Q[counter][21][2] = 0\n",
    "            self.Q[counter][21][1] = 0\n",
    "            self.Q[counter][21][0] = 1\n",
    "        \n",
    "    \n",
    "    def run_episode(self):\n",
    "        states, actions, rewards = [], [], []\n",
    "        observation = self.env.reset()\n",
    "        s, _, __, cnt = observation \n",
    "        action = self.policy(observation, cnt, epsilon)\n",
    "        while True:\n",
    "            states.append(s)        \n",
    "            actions.append(action)\n",
    "            observation, reward, done, info = self.env.step(action)\n",
    "            s_prime, _, __, cnt = observation\n",
    "            a_prime = self.policy(observation, cnt, epsilon)\n",
    "            if s > 12 and s < 21:\n",
    "                self.Q[cnt][s][action] = self.Q[cnt][s][action] + self.lr * (reward + self.gamma * np.max(self.Q[cnt][s_prime]) - self.Q[cnt][s][action])\n",
    "            s, action = s_prime, a_prime\n",
    "            rewards.append(reward)\n",
    "            if done:\n",
    "                return states, actions, rewards              \n",
    "    \n",
    "    def policy(self, observation, count, epsilon=0.1) -> int:\n",
    "        score, dealer_score, usable_ace, _ = observation\n",
    "        if score > 21:\n",
    "            return 0\n",
    "        if np.random.random() < epsilon:\n",
    "            return np.random.choice([0, 1, 2]) \n",
    "        return np.argmax(self.Q[count][score])\n",
    "    \n",
    "    def evaluate_episode(self):\n",
    "        states, actions, rewards = [], [], []\n",
    "        observation = self.env.reset()\n",
    "        while True:\n",
    "            states.append(observation)\n",
    "            action = self.policy(observation, observation[-1], 0)\n",
    "            actions.append(action)\n",
    "            observation, reward, done, info = self.env.step(action)\n",
    "            rewards.append(reward)\n",
    "            if done:\n",
    "                return states, actions, rewards \n",
    "    "
   ]
  },
  {
   "cell_type": "code",
   "execution_count": 29,
   "id": "40c5ca61",
   "metadata": {
    "ExecuteTime": {
     "end_time": "2021-10-22T07:19:09.587033Z",
     "start_time": "2021-10-22T07:19:09.581782Z"
    }
   },
   "outputs": [],
   "source": [
    "dustin = QDustinPlayer(custom_env, 0.1, 0.001, 0.4)"
   ]
  },
  {
   "cell_type": "code",
   "execution_count": 30,
   "id": "59585a50",
   "metadata": {
    "ExecuteTime": {
     "end_time": "2021-10-22T07:19:09.604804Z",
     "start_time": "2021-10-22T07:19:09.589259Z"
    }
   },
   "outputs": [],
   "source": [
    "dustin.init_random_Q()"
   ]
  },
  {
   "cell_type": "code",
   "execution_count": 31,
   "id": "8990b3ad",
   "metadata": {
    "ExecuteTime": {
     "end_time": "2021-10-22T07:20:01.732875Z",
     "start_time": "2021-10-22T07:19:09.607058Z"
    }
   },
   "outputs": [],
   "source": [
    "gain = []\n",
    "for _ in range(300000):\n",
    "    states, actions, rewards = dustin.run_episode()\n",
    "    gain.append(rewards[-1])"
   ]
  },
  {
   "cell_type": "code",
   "execution_count": 32,
   "id": "18216bee",
   "metadata": {
    "ExecuteTime": {
     "end_time": "2021-10-22T07:20:16.823786Z",
     "start_time": "2021-10-22T07:20:01.734588Z"
    }
   },
   "outputs": [
    {
     "data": {
      "text/plain": [
       "-0.13589"
      ]
     },
     "execution_count": 32,
     "metadata": {},
     "output_type": "execute_result"
    }
   ],
   "source": [
    "gain_eval = []\n",
    "for _ in range(100000):\n",
    "    states, actions, rewards = dustin.evaluate_episode()\n",
    "    gain_eval.append(rewards[-1])\n",
    "\n",
    "np.mean(gain_eval)"
   ]
  },
  {
   "cell_type": "code",
   "execution_count": 33,
   "id": "9ced0f6b",
   "metadata": {
    "ExecuteTime": {
     "end_time": "2021-10-22T07:20:17.075738Z",
     "start_time": "2021-10-22T07:20:16.825709Z"
    }
   },
   "outputs": [
    {
     "data": {
      "text/plain": [
       "[<matplotlib.lines.Line2D at 0x7f70390241d0>]"
      ]
     },
     "execution_count": 33,
     "metadata": {},
     "output_type": "execute_result"
    },
    {
     "data": {
      "image/png": "[encoded data removed]",
      "text/plain": [
       "<Figure size 432x288 with 1 Axes>"
      ]
     },
     "metadata": {
      "needs_background": "light"
     },
     "output_type": "display_data"
    }
   ],
   "source": [
    "plt.plot(moving_average(gain, 1000))"
   ]
  },
  {
   "cell_type": "code",
   "execution_count": 34,
   "id": "2d1d0a86",
   "metadata": {
    "ExecuteTime": {
     "end_time": "2021-10-22T09:43:33.045210Z",
     "start_time": "2021-10-22T07:20:17.078661Z"
    }
   },
   "outputs": [
    {
     "name": "stdout",
     "output_type": "stream",
     "text": [
      "epsilon 0.1 LR: 0.0001, Gamma: 0.4, mean gain -0.13024\n",
      "epsilon 0.1 LR: 0.0001, Gamma: 0.8, mean gain -0.13237\n",
      "epsilon 0.1 LR: 0.001, Gamma: 0.4, mean gain -0.08394\n",
      "epsilon 0.1 LR: 0.001, Gamma: 0.8, mean gain -0.1747\n",
      "epsilon 0.1 LR: 0.01, Gamma: 0.4, mean gain -0.10085\n",
      "epsilon 0.1 LR: 0.01, Gamma: 0.8, mean gain -0.16579\n",
      "epsilon 0.1 LR: 0.1, Gamma: 0.4, mean gain -0.12483\n",
      "epsilon 0.1 LR: 0.1, Gamma: 0.8, mean gain -0.14153\n",
      "epsilon 0.2 LR: 0.0001, Gamma: 0.4, mean gain -0.13038\n",
      "epsilon 0.2 LR: 0.0001, Gamma: 0.8, mean gain -0.13744\n",
      "epsilon 0.2 LR: 0.001, Gamma: 0.4, mean gain -0.09121\n",
      "epsilon 0.2 LR: 0.001, Gamma: 0.8, mean gain -0.17248\n",
      "epsilon 0.2 LR: 0.01, Gamma: 0.4, mean gain -0.11813\n",
      "epsilon 0.2 LR: 0.01, Gamma: 0.8, mean gain -0.16224\n",
      "epsilon 0.2 LR: 0.1, Gamma: 0.4, mean gain -0.11425\n",
      "epsilon 0.2 LR: 0.1, Gamma: 0.8, mean gain -0.16104\n",
      "BEST epsilon 0.1 LR: 0.001, Gamma: 0.4, mean gain -0.08394\n"
     ]
    }
   ],
   "source": [
    "best_gain = -1\n",
    "for epsilon in [0.1, 0.2]:\n",
    "    for lr in [0.0001, 0.001, 0.01, 0.1]:\n",
    "        for gamma in [0.4, 0.8]:\n",
    "            dustin = QDustinPlayer(custom_env, epsilon, lr, gamma)\n",
    "            dustin.init_random_Q()\n",
    "            gain = []\n",
    "            eval_gain = []\n",
    "            for _ in range(3000000):\n",
    "                states, actions, rewards = dustin.run_episode()\n",
    "                gain.append(rewards[-1])\n",
    "            for _ in range(100000):\n",
    "                states, actions, rewards = dustin.evaluate_episode()\n",
    "                eval_gain.append(rewards[-1])\n",
    "            mean_gain = np.mean(eval_gain)\n",
    "            print(f\"epsilon {epsilon} LR: {lr}, Gamma: {gamma}, mean gain {mean_gain}\")\n",
    "            if mean_gain > best_gain:\n",
    "                best_gamma = gamma\n",
    "                best_lr = lr\n",
    "                best_gain = mean_gain\n",
    "                best_epsilon = epsilon\n",
    "print(f\"BEST epsilon {best_epsilon} LR: {best_lr}, Gamma: {best_gamma}, mean gain {best_gain}\")"
   ]
  },
  {
   "cell_type": "code",
   "execution_count": 35,
   "id": "a9c6e018",
   "metadata": {
    "ExecuteTime": {
     "end_time": "2021-10-22T10:19:12.578539Z",
     "start_time": "2021-10-22T09:52:06.091269Z"
    }
   },
   "outputs": [
    {
     "name": "stdout",
     "output_type": "stream",
     "text": [
      "-0.09584\n"
     ]
    }
   ],
   "source": [
    "dustin = QDustinPlayer(custom_env, 0.1, 0.001, 0.4)\n",
    "dustin.init_random_Q()\n",
    "gain = []\n",
    "eval_gain = []\n",
    "for _ in range(10000000):\n",
    "    states, actions, rewards = dustin.run_episode()\n",
    "    gain.append(rewards[-1])\n",
    "for _ in range(100000):\n",
    "    states, actions, rewards = dustin.evaluate_episode()\n",
    "    eval_gain.append(rewards[-1])\n",
    "mean_gain = np.mean(eval_gain)\n",
    "print(mean_gain)"
   ]
  },
  {
   "cell_type": "code",
   "execution_count": 36,
   "id": "a703f98f",
   "metadata": {
    "ExecuteTime": {
     "end_time": "2021-10-22T10:21:41.392526Z",
     "start_time": "2021-10-22T10:21:22.663488Z"
    }
   },
   "outputs": [
    {
     "data": {
      "text/plain": [
       "[<matplotlib.lines.Line2D at 0x7f7034875c50>]"
      ]
     },
     "execution_count": 36,
     "metadata": {},
     "output_type": "execute_result"
    },
    {
     "data": {
      "image/png": "[encoded data removed]",
      "text/plain": [
       "<Figure size 432x288 with 1 Axes>"
      ]
     },
     "metadata": {
      "needs_background": "light"
     },
     "output_type": "display_data"
    }
   ],
   "source": [
    "plt.plot(moving_average(gain, 10000))"
   ]
  },
  {
   "cell_type": "code",
   "execution_count": 38,
   "id": "4fe55809",
   "metadata": {
    "ExecuteTime": {
     "end_time": "2021-10-22T10:36:50.834476Z",
     "start_time": "2021-10-22T10:22:37.756852Z"
    }
   },
   "outputs": [
    {
     "name": "stdout",
     "output_type": "stream",
     "text": [
      "-0.06169\n"
     ]
    }
   ],
   "source": [
    "dustin = QDustinPlayer(custom_env, 0.1, 0.005, 0.2)\n",
    "dustin.init_random_Q()\n",
    "gain = []\n",
    "eval_gain = []\n",
    "for _ in range(5000000):\n",
    "    states, actions, rewards = dustin.run_episode()\n",
    "    gain.append(rewards[-1])\n",
    "for _ in range(100000):\n",
    "    states, actions, rewards = dustin.evaluate_episode()\n",
    "    eval_gain.append(rewards[-1])\n",
    "mean_gain = np.mean(eval_gain)\n",
    "print(mean_gain)"
   ]
  },
  {
   "cell_type": "code",
   "execution_count": 40,
   "id": "f44eb044",
   "metadata": {
    "ExecuteTime": {
     "end_time": "2021-10-22T14:02:46.635248Z",
     "start_time": "2021-10-22T13:48:52.451349Z"
    }
   },
   "outputs": [
    {
     "name": "stdout",
     "output_type": "stream",
     "text": [
      "-0.06017\n"
     ]
    }
   ],
   "source": [
    "dustin = QDustinPlayer(custom_env, 0.1, 0.005, 0.1)\n",
    "dustin.init_random_Q()\n",
    "gain = []\n",
    "eval_gain = []\n",
    "for _ in range(5000000):\n",
    "    states, actions, rewards = dustin.run_episode()\n",
    "    gain.append(rewards[-1])\n",
    "for _ in range(100000):\n",
    "    states, actions, rewards = dustin.evaluate_episode()\n",
    "    eval_gain.append(rewards[-1])\n",
    "mean_gain = np.mean(eval_gain)\n",
    "print(mean_gain)"
   ]
  },
  {
   "cell_type": "code",
   "execution_count": 41,
   "id": "13f52555",
   "metadata": {
    "ExecuteTime": {
     "end_time": "2021-10-22T14:36:26.514983Z",
     "start_time": "2021-10-22T14:23:18.344576Z"
    }
   },
   "outputs": [
    {
     "name": "stdout",
     "output_type": "stream",
     "text": [
      "-0.07001\n"
     ]
    }
   ],
   "source": [
    "dustin = QDustinPlayer(custom_env, 0.05, 0.005, 0.2)\n",
    "dustin.init_random_Q()\n",
    "gain = []\n",
    "eval_gain = []\n",
    "for _ in range(5000000):\n",
    "    states, actions, rewards = dustin.run_episode()\n",
    "    gain.append(rewards[-1])\n",
    "for _ in range(100000):\n",
    "    states, actions, rewards = dustin.evaluate_episode()\n",
    "    eval_gain.append(rewards[-1])\n",
    "mean_gain = np.mean(eval_gain)\n",
    "print(mean_gain)"
   ]
  },
  {
   "cell_type": "markdown",
   "id": "cf562597",
   "metadata": {},
   "source": [
    "## Выводы пункт 3"
   ]
  },
  {
   "cell_type": "markdown",
   "id": "a4adc65b",
   "metadata": {
    "ExecuteTime": {
     "start_time": "2021-10-22T14:26:55.126Z"
    }
   },
   "source": [
    "Средний проигрыш Дастина (с параметрами epsilon=0.1, lr=0.005, gamma=0,1) 0.06017 <br>"
   ]
  },
  {
   "cell_type": "markdown",
   "id": "fbdceeec",
   "metadata": {
    "ExecuteTime": {
     "start_time": "2021-10-22T14:28:39.186Z"
    }
   },
   "source": [
    "По ходу доработок качество улучшалось <br>\n",
    "Видно что у Дастина есть потенциал судя по последним попыткам тюнинга. К сожалению не хватает времени попробовать дотюнить до чего-нибудь близкого к 0"
   ]
  },
  {
   "cell_type": "markdown",
   "id": "6e2706d6",
   "metadata": {},
   "source": [
    "# end"
   ]
  },
  {
   "cell_type": "code",
   "execution_count": null,
   "id": "79794aa2",
   "metadata": {},
   "outputs": [],
   "source": []
  },
  {
   "cell_type": "code",
   "execution_count": null,
   "id": "4dca6551",
   "metadata": {},
   "outputs": [],
   "source": []
  }
 ],
 "metadata": {
  "kernelspec": {
   "display_name": "Python 3",
   "language": "python",
   "name": "python3"
  },
  "language_info": {
   "codemirror_mode": {
    "name": "ipython",
    "version": 3
   },
   "file_extension": ".py",
   "mimetype": "text/x-python",
   "name": "python",
   "nbconvert_exporter": "python",
   "pygments_lexer": "ipython3",
   "version": "3.7.10"
  },
  "toc": {
   "base_numbering": 1,
   "nav_menu": {},
   "number_sections": true,
   "sideBar": true,
   "skip_h1_title": false,
   "title_cell": "Table of Contents",
   "title_sidebar": "Contents",
   "toc_cell": false,
   "toc_position": {
    "height": "calc(100% - 180px)",
    "left": "10px",
    "top": "150px",
    "width": "383.984px"
   },
   "toc_section_display": true,
   "toc_window_display": true
  },
  "varInspector": {
   "cols": {
    "lenName": 16,
    "lenType": 16,
    "lenVar": 40
   },
   "kernels_config": {
    "python": {
     "delete_cmd_postfix": "",
     "delete_cmd_prefix": "del ",
     "library": "var_list.py",
     "varRefreshCmd": "print(var_dic_list())"
    },
    "r": {
     "delete_cmd_postfix": ") ",
     "delete_cmd_prefix": "rm(",
     "library": "var_list.r",
     "varRefreshCmd": "cat(var_dic_list()) "
    }
   },
   "types_to_exclude": [
    "module",
    "function",
    "builtin_function_or_method",
    "instance",
    "_Feature"
   ],
   "window_display": false
  }
 },
 "nbformat": 4,
 "nbformat_minor": 5
}
