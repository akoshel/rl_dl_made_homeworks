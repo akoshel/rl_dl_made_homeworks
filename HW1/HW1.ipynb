{
 "cells": [
  {
   "cell_type": "markdown",
   "id": "ad325456",
   "metadata": {},
   "source": [
    "# Кошелев Александр"
   ]
  },
  {
   "cell_type": "markdown",
   "id": "d25d3be4",
   "metadata": {},
   "source": [
    "# Imports"
   ]
  },
  {
   "cell_type": "code",
   "execution_count": 87,
   "id": "ee2bd51f",
   "metadata": {
    "ExecuteTime": {
     "end_time": "2021-10-21T16:36:47.669502Z",
     "start_time": "2021-10-21T16:36:47.666616Z"
    }
   },
   "outputs": [],
   "source": [
    "import gym\n",
    "from gym import spaces\n",
    "from gym.utils import seeding\n",
    "import matplotlib.pyplot as plt\n",
    "from abc import ABC, abstractmethod\n",
    "from loguru import logger\n",
    "from collections import defaultdict\n",
    "from copy import deepcopy"
   ]
  },
  {
   "cell_type": "code",
   "execution_count": 88,
   "id": "080c29e8",
   "metadata": {
    "ExecuteTime": {
     "end_time": "2021-10-21T16:36:47.917825Z",
     "start_time": "2021-10-21T16:36:47.914793Z"
    }
   },
   "outputs": [],
   "source": [
    "def moving_average(x, w):\n",
    "    return np.convolve(x, np.ones(w), 'valid') / w"
   ]
  },
  {
   "cell_type": "code",
   "execution_count": 89,
   "id": "2680876e",
   "metadata": {
    "ExecuteTime": {
     "end_time": "2021-10-21T16:36:48.272050Z",
     "start_time": "2021-10-21T16:36:48.268270Z"
    }
   },
   "outputs": [],
   "source": [
    "class BlackJackGamer(ABC):\n",
    "    \n",
    "    def __init__(self,  env) -> None:\n",
    "        self.env = env\n",
    "        \n",
    "    @abstractmethod\n",
    "    def run_episode(self):\n",
    "        ...\n",
    "             \n",
    "    @abstractmethod\n",
    "    def policy(self, observation) -> int:\n",
    "        ..."
   ]
  },
  {
   "cell_type": "markdown",
   "id": "923921e4",
   "metadata": {},
   "source": [
    "# Пункт 1"
   ]
  },
  {
   "cell_type": "code",
   "execution_count": 9,
   "id": "10d87679",
   "metadata": {
    "ExecuteTime": {
     "end_time": "2021-10-17T12:20:35.917723Z",
     "start_time": "2021-10-17T12:20:35.894140Z"
    }
   },
   "outputs": [
    {
     "data": {
      "text/plain": [
       "(13, 2, False)"
      ]
     },
     "execution_count": 9,
     "metadata": {},
     "output_type": "execute_result"
    }
   ],
   "source": [
    "env = gym.make(\"Blackjack-v1\")\n",
    "env.reset()"
   ]
  },
  {
   "cell_type": "markdown",
   "id": "e862172a",
   "metadata": {},
   "source": [
    "## Simple Player"
   ]
  },
  {
   "cell_type": "code",
   "execution_count": 10,
   "id": "4c391f98",
   "metadata": {
    "ExecuteTime": {
     "end_time": "2021-10-17T12:20:35.941697Z",
     "start_time": "2021-10-17T12:20:35.920860Z"
    }
   },
   "outputs": [],
   "source": [
    "class SimplePlayer(BlackJackGamer):\n",
    "    \n",
    "    def run_episode(self):\n",
    "        states, actions, rewards = [], [], []\n",
    "        observation = self.env.reset()\n",
    "        while True:\n",
    "            states.append(observation)\n",
    "            action = self.policy(observation)\n",
    "            actions.append(action)\n",
    "            observation, reward, done, info = self.env.step(action)\n",
    "            rewards.append(reward)\n",
    "            if done:\n",
    "                return states, actions, rewards\n",
    "            \n",
    "    def policy(self, observation) -> int:\n",
    "        score, dealer_score, usable_ace = observation\n",
    "        return 0 if score >= 19 else 1"
   ]
  },
  {
   "cell_type": "code",
   "execution_count": 11,
   "id": "58a037dd",
   "metadata": {
    "ExecuteTime": {
     "end_time": "2021-10-17T12:20:35.972314Z",
     "start_time": "2021-10-17T12:20:35.945142Z"
    }
   },
   "outputs": [],
   "source": [
    "simple_player = SimplePlayer(env)"
   ]
  },
  {
   "cell_type": "code",
   "execution_count": 12,
   "id": "181c1965",
   "metadata": {
    "ExecuteTime": {
     "end_time": "2021-10-17T12:20:35.995644Z",
     "start_time": "2021-10-17T12:20:35.976149Z"
    }
   },
   "outputs": [],
   "source": [
    "states, actions, rewards = simple_player.run_episode()"
   ]
  },
  {
   "cell_type": "code",
   "execution_count": 13,
   "id": "99fb0980",
   "metadata": {
    "ExecuteTime": {
     "end_time": "2021-10-17T12:21:40.657238Z",
     "start_time": "2021-10-17T12:20:36.001045Z"
    }
   },
   "outputs": [],
   "source": [
    "gain = []\n",
    "for _ in range(300000):\n",
    "    states, actions, rewards = simple_player.run_episode()\n",
    "    gain.append(rewards[-1])"
   ]
  },
  {
   "cell_type": "code",
   "execution_count": 14,
   "id": "3bee7f19",
   "metadata": {
    "ExecuteTime": {
     "end_time": "2021-10-17T12:21:40.702843Z",
     "start_time": "2021-10-17T12:21:40.661862Z"
    }
   },
   "outputs": [
    {
     "data": {
      "text/plain": [
       "-0.19746666666666668"
      ]
     },
     "execution_count": 14,
     "metadata": {},
     "output_type": "execute_result"
    }
   ],
   "source": [
    "np.mean(gain)"
   ]
  },
  {
   "cell_type": "code",
   "execution_count": 15,
   "id": "f5708bd2",
   "metadata": {
    "ExecuteTime": {
     "end_time": "2021-10-17T12:21:41.285364Z",
     "start_time": "2021-10-17T12:21:40.708232Z"
    }
   },
   "outputs": [
    {
     "data": {
      "text/plain": [
       "[<matplotlib.lines.Line2D at 0x7ff952fc2d50>]"
      ]
     },
     "execution_count": 15,
     "metadata": {},
     "output_type": "execute_result"
    },
    {
     "data": {
      "image/png": "[encoded data removed]",
      "text/plain": [
       "<Figure size 432x288 with 1 Axes>"
      ]
     },
     "metadata": {
      "needs_background": "light"
     },
     "output_type": "display_data"
    }
   ],
   "source": [
    "# plt.plot(gain_n.mean(axis=1)[:100])\n",
    "plt.plot(moving_average(gain, 100))"
   ]
  },
  {
   "cell_type": "markdown",
   "id": "b8da4ac5",
   "metadata": {
    "ExecuteTime": {
     "end_time": "2021-10-10T09:53:30.577573Z",
     "start_time": "2021-10-10T09:53:30.571567Z"
    }
   },
   "source": [
    "## Q-learning Player"
   ]
  },
  {
   "cell_type": "code",
   "execution_count": 109,
   "id": "a5013fac",
   "metadata": {
    "ExecuteTime": {
     "end_time": "2021-10-21T16:44:58.368533Z",
     "start_time": "2021-10-21T16:44:58.360930Z"
    }
   },
   "outputs": [],
   "source": [
    "class QLearningPlayer(BlackJackGamer):\n",
    "    \n",
    "    def __init__(self, env, lr, gamma) -> None:\n",
    "        super(QLearningPlayer, self).__init__(env)\n",
    "        self.Q = {}\n",
    "        self.lr = lr\n",
    "        self.gamma = gamma\n",
    "        \n",
    "    def init_random_Q(self):\n",
    "        self.Q = {}\n",
    "        for i in range(12):\n",
    "            self.Q[i] = np.array([0, 1])\n",
    "        for i in range(22, 32):\n",
    "            self.Q[i] = np.array([0, 0])\n",
    "        for i in range(12, 22):\n",
    "            self.Q[i] = np.random.random(2)\n",
    "        self.Q[21][1] = 0\n",
    "        self.Q[21][0] = 1\n",
    "        \n",
    "            \n",
    "    def run_episode(self):\n",
    "        states, actions, rewards = [], [], []\n",
    "        observation = self.env.reset()\n",
    "        s, _, __ = observation \n",
    "        action = self.policy(observation, cnt)\n",
    "        while True:\n",
    "            states.append(s)        \n",
    "            actions.append(action)\n",
    "            observation, reward, done, info = self.env.step(action)\n",
    "            s_prime, _, __ = observation\n",
    "            a_prime = self.policy(observation)\n",
    "            if s > 12 and s < 21:\n",
    "                self.Q[s][action] = self.Q[s][action] + self.lr * (reward + self.gamma * np.max(self.Q[s_prime]) - self.Q[s][action])\n",
    "            s, action = s_prime, a_prime\n",
    "            rewards.append(reward)\n",
    "            if done:\n",
    "                return states, actions, rewards              \n",
    "    \n",
    "    def policy(self, observation) -> int:\n",
    "        score, dealer_score, usable_ace = observation\n",
    "        if score > 21:\n",
    "            return 0\n",
    "        return np.argmax(self.Q[score])"
   ]
  },
  {
   "cell_type": "code",
   "execution_count": 17,
   "id": "a397d669",
   "metadata": {
    "ExecuteTime": {
     "end_time": "2021-10-17T12:21:41.325249Z",
     "start_time": "2021-10-17T12:21:41.317435Z"
    }
   },
   "outputs": [],
   "source": [
    "qlearningplayer = QLearningPlayer(env, 0.0001, 0.8)"
   ]
  },
  {
   "cell_type": "code",
   "execution_count": 18,
   "id": "24089168",
   "metadata": {
    "ExecuteTime": {
     "end_time": "2021-10-17T12:21:41.338284Z",
     "start_time": "2021-10-17T12:21:41.330996Z"
    }
   },
   "outputs": [],
   "source": [
    "qlearningplayer.init_random_Q()"
   ]
  },
  {
   "cell_type": "code",
   "execution_count": 19,
   "id": "b9689520",
   "metadata": {
    "ExecuteTime": {
     "end_time": "2021-10-17T12:22:57.735944Z",
     "start_time": "2021-10-17T12:21:41.344596Z"
    }
   },
   "outputs": [],
   "source": [
    "gain = []\n",
    "for _ in range(300000):\n",
    "    states, actions, rewards = qlearningplayer.run_episode()\n",
    "    gain.append(rewards[-1])"
   ]
  },
  {
   "cell_type": "code",
   "execution_count": 20,
   "id": "1e1a0a67",
   "metadata": {
    "ExecuteTime": {
     "end_time": "2021-10-17T12:22:57.786089Z",
     "start_time": "2021-10-17T12:22:57.739747Z"
    }
   },
   "outputs": [
    {
     "data": {
      "text/plain": [
       "-0.10941666666666666"
      ]
     },
     "execution_count": 20,
     "metadata": {},
     "output_type": "execute_result"
    }
   ],
   "source": [
    "np.mean(gain)"
   ]
  },
  {
   "cell_type": "code",
   "execution_count": 21,
   "id": "a85dc75f",
   "metadata": {
    "ExecuteTime": {
     "end_time": "2021-10-17T12:22:58.252838Z",
     "start_time": "2021-10-17T12:22:57.791021Z"
    }
   },
   "outputs": [
    {
     "data": {
      "text/plain": [
       "[<matplotlib.lines.Line2D at 0x7ff950a99f50>]"
      ]
     },
     "execution_count": 21,
     "metadata": {},
     "output_type": "execute_result"
    },
    {
     "data": {
      "image/png": "[encoded data removed]",
      "text/plain": [
       "<Figure size 432x288 with 1 Axes>"
      ]
     },
     "metadata": {
      "needs_background": "light"
     },
     "output_type": "display_data"
    }
   ],
   "source": [
    "plt.plot(moving_average(gain, 100))"
   ]
  },
  {
   "cell_type": "code",
   "execution_count": 22,
   "id": "0b35834e",
   "metadata": {
    "ExecuteTime": {
     "end_time": "2021-10-17T13:08:19.625723Z",
     "start_time": "2021-10-17T12:22:58.257330Z"
    }
   },
   "outputs": [
    {
     "name": "stdout",
     "output_type": "stream",
     "text": [
      "LR: 1e-05, Gamma: 0.2, mean gain -0.1014\n",
      "LR: 1e-05, Gamma: 0.4, mean gain -0.1117\n",
      "LR: 1e-05, Gamma: 0.6, mean gain -0.1\n",
      "LR: 1e-05, Gamma: 0.8, mean gain -0.0636\n",
      "LR: 1e-05, Gamma: 1, mean gain -0.1732\n",
      "LR: 0.0001, Gamma: 0.2, mean gain -0.0767\n",
      "LR: 0.0001, Gamma: 0.4, mean gain -0.1025\n",
      "LR: 0.0001, Gamma: 0.6, mean gain -0.1214\n",
      "LR: 0.0001, Gamma: 0.8, mean gain -0.1187\n",
      "LR: 0.0001, Gamma: 1, mean gain -0.1258\n",
      "LR: 0.001, Gamma: 0.2, mean gain -0.0779\n",
      "LR: 0.001, Gamma: 0.4, mean gain -0.1012\n",
      "LR: 0.001, Gamma: 0.6, mean gain -0.0993\n",
      "LR: 0.001, Gamma: 0.8, mean gain -0.1261\n",
      "LR: 0.001, Gamma: 1, mean gain -0.1942\n",
      "LR: 0.01, Gamma: 0.2, mean gain -0.0948\n",
      "LR: 0.01, Gamma: 0.4, mean gain -0.1295\n",
      "LR: 0.01, Gamma: 0.6, mean gain -0.1229\n",
      "LR: 0.01, Gamma: 0.8, mean gain -0.1186\n",
      "LR: 0.01, Gamma: 1, mean gain -0.2003\n",
      "LR: 0.1, Gamma: 0.2, mean gain -0.118\n",
      "LR: 0.1, Gamma: 0.4, mean gain -0.2023\n",
      "LR: 0.1, Gamma: 0.6, mean gain -0.1902\n",
      "LR: 0.1, Gamma: 0.8, mean gain -0.2052\n",
      "LR: 0.1, Gamma: 1, mean gain -0.1944\n",
      "LR: 1, Gamma: 0.2, mean gain -0.6588\n",
      "LR: 1, Gamma: 0.4, mean gain -0.6234\n",
      "LR: 1, Gamma: 0.6, mean gain -0.6155\n",
      "LR: 1, Gamma: 0.8, mean gain -0.6578\n",
      "LR: 1, Gamma: 1, mean gain -0.2066\n"
     ]
    }
   ],
   "source": [
    "best_gain = -1\n",
    "for lr in [0.00001, 0.0001, 0.001, 0.01, 0.1, 1]:\n",
    "    for gamma in [0.2, 0.4, 0.6, 0.8, 1]:\n",
    "        qlearningplayer = QLearningPlayer(env, lr, gamma)\n",
    "        qlearningplayer.init_random_Q()\n",
    "        gain = []\n",
    "        for _ in range(500000):\n",
    "            states, actions, rewards = qlearningplayer.run_episode()\n",
    "            gain.append(rewards[-1])\n",
    "        mean_gain = np.mean(gain[-10000:])\n",
    "        print(f\"LR: {lr}, Gamma: {gamma}, mean gain {mean_gain}\")\n",
    "        if mean_gain > best_gain:\n",
    "            best_gamma = gamma\n",
    "            best_lr = lr\n",
    "            best_gain = mean_gain"
   ]
  },
  {
   "cell_type": "markdown",
   "id": "99b0bfc9",
   "metadata": {},
   "source": [
    "## Выводы пункт 1"
   ]
  },
  {
   "cell_type": "markdown",
   "id": "8ad3617d",
   "metadata": {
    "ExecuteTime": {
     "end_time": "2021-10-11T16:58:20.110847Z",
     "start_time": "2021-10-11T16:58:20.106629Z"
    }
   },
   "source": [
    "Средний проигрыш наивного игрока 0.2 <br>\n",
    "Средний проигрыш лучшего игрока (с параметрами lr=1e-05, gamma=0,8) 0.0636 <br>"
   ]
  },
  {
   "cell_type": "markdown",
   "id": "3173b902",
   "metadata": {},
   "source": [
    "# Пункт 2"
   ]
  },
  {
   "cell_type": "code",
   "execution_count": 23,
   "id": "fa786741",
   "metadata": {
    "ExecuteTime": {
     "end_time": "2021-10-17T13:08:19.715661Z",
     "start_time": "2021-10-17T13:08:19.652103Z"
    }
   },
   "outputs": [],
   "source": [
    "class QDoublePlayer(BlackJackGamer):\n",
    "    \n",
    "    def __init__(self, env, lr, gamma) -> None:\n",
    "        super(QDoublePlayer, self).__init__(env)\n",
    "        self.Q = {}\n",
    "        self.lr = lr\n",
    "        self.gamma = gamma\n",
    "        self.last_action = 0\n",
    "        \n",
    "    def init_random_Q(self):\n",
    "        self.Q = {}\n",
    "        for i in range(12):\n",
    "            self.Q[i] = np.array([0, 1, 0])\n",
    "        for i in range(22, 32):\n",
    "            self.Q[i] = np.array([0, 0, 0])\n",
    "        for i in range(12, 22):\n",
    "            self.Q[i] = np.random.random(3)\n",
    "        self.Q[21][2] = 0\n",
    "        self.Q[21][1] = 0\n",
    "        self.Q[21][0] = 1\n",
    "        \n",
    "    \n",
    "    def run_episode(self):\n",
    "        states, actions, rewards = [], [], []\n",
    "        observation = self.env.reset()\n",
    "        s, _, __ = observation \n",
    "        action = self.policy(observation)\n",
    "        while True:\n",
    "            states.append(s)        \n",
    "            actions.append(action)\n",
    "            observation, reward, done, info = self.new_step(action)\n",
    "            s_prime, _, __ = observation\n",
    "            a_prime = self.policy(observation)\n",
    "            if s > 12 and s < 21:\n",
    "                self.Q[s][action] = self.Q[s][action] + self.lr * (reward + self.gamma * np.max(self.Q[s_prime]) - self.Q[s][action])\n",
    "            s, action = s_prime, a_prime\n",
    "            rewards.append(reward)\n",
    "            if done:\n",
    "                return states, actions, rewards              \n",
    "    \n",
    "    def policy(self, observation) -> int:\n",
    "        score, dealer_score, usable_ace = observation\n",
    "        if self.last_action == 2:\n",
    "            action = 0\n",
    "        else:\n",
    "            action = np.argmax(self.Q[score])\n",
    "        self.last_action = action\n",
    "        return action\n",
    "    \n",
    "    def new_step(self, action):\n",
    "        action_for_env = action if action != 2 else 1\n",
    "        observation, reward, done, info = self.env.step(action_for_env)\n",
    "        if action == 2:\n",
    "            reward *= 2\n",
    "        return observation, reward, done, info"
   ]
  },
  {
   "cell_type": "code",
   "execution_count": 24,
   "id": "b80d891e",
   "metadata": {
    "ExecuteTime": {
     "end_time": "2021-10-17T13:09:09.686845Z",
     "start_time": "2021-10-17T13:08:19.720551Z"
    }
   },
   "outputs": [],
   "source": [
    "qlearningplayer = QDoublePlayer(env, 0.0001, 0.8)\n",
    "qlearningplayer.init_random_Q()\n",
    "gain = []\n",
    "for _ in range(300000):\n",
    "    states, actions, rewards = qlearningplayer.run_episode()\n",
    "    gain.append(rewards[-1])"
   ]
  },
  {
   "cell_type": "code",
   "execution_count": 25,
   "id": "28433e26",
   "metadata": {
    "ExecuteTime": {
     "end_time": "2021-10-17T13:09:09.710213Z",
     "start_time": "2021-10-17T13:09:09.695836Z"
    }
   },
   "outputs": [],
   "source": [
    "mean_gain = np.mean(gain[-10000:])"
   ]
  },
  {
   "cell_type": "code",
   "execution_count": 26,
   "id": "2e133fd3",
   "metadata": {
    "ExecuteTime": {
     "end_time": "2021-10-17T13:09:10.290303Z",
     "start_time": "2021-10-17T13:09:09.714066Z"
    }
   },
   "outputs": [
    {
     "data": {
      "text/plain": [
       "[<matplotlib.lines.Line2D at 0x7ff952be0510>]"
      ]
     },
     "execution_count": 26,
     "metadata": {},
     "output_type": "execute_result"
    },
    {
     "data": {
      "image/png": "[encoded data removed]",
      "text/plain": [
       "<Figure size 432x288 with 1 Axes>"
      ]
     },
     "metadata": {
      "needs_background": "light"
     },
     "output_type": "display_data"
    }
   ],
   "source": [
    "plt.plot(moving_average(gain, 100))"
   ]
  },
  {
   "cell_type": "code",
   "execution_count": 27,
   "id": "09a12c01",
   "metadata": {
    "ExecuteTime": {
     "end_time": "2021-10-17T13:50:50.676581Z",
     "start_time": "2021-10-17T13:09:10.294581Z"
    }
   },
   "outputs": [
    {
     "name": "stdout",
     "output_type": "stream",
     "text": [
      "LR: 1e-05, Gamma: 0.2, mean gain -0.20762\n",
      "LR: 1e-05, Gamma: 0.4, mean gain -0.5225\n",
      "LR: 1e-05, Gamma: 0.6, mean gain -0.14126\n",
      "LR: 1e-05, Gamma: 0.8, mean gain -0.27646\n",
      "LR: 1e-05, Gamma: 1, mean gain -0.11208\n",
      "LR: 0.0001, Gamma: 0.2, mean gain -0.12646\n",
      "LR: 0.0001, Gamma: 0.4, mean gain -0.14833\n",
      "LR: 0.0001, Gamma: 0.6, mean gain -0.16584\n",
      "LR: 0.0001, Gamma: 0.8, mean gain -0.15841\n",
      "LR: 0.0001, Gamma: 1, mean gain -0.10614\n",
      "LR: 0.001, Gamma: 0.2, mean gain -0.07762\n",
      "LR: 0.001, Gamma: 0.4, mean gain -0.10742\n",
      "LR: 0.001, Gamma: 0.6, mean gain -0.13946\n",
      "LR: 0.001, Gamma: 0.8, mean gain -0.11168\n",
      "LR: 0.001, Gamma: 1, mean gain -0.2982\n",
      "LR: 0.01, Gamma: 0.2, mean gain -0.11583\n",
      "LR: 0.01, Gamma: 0.4, mean gain -0.1095\n",
      "LR: 0.01, Gamma: 0.6, mean gain -0.11269\n",
      "LR: 0.01, Gamma: 0.8, mean gain -0.1216\n",
      "LR: 0.01, Gamma: 1, mean gain -0.12813\n",
      "LR: 0.1, Gamma: 0.2, mean gain -0.12334\n",
      "LR: 0.1, Gamma: 0.4, mean gain -0.19907\n",
      "LR: 0.1, Gamma: 0.6, mean gain -0.20089\n",
      "LR: 0.1, Gamma: 0.8, mean gain -0.17504\n",
      "LR: 0.1, Gamma: 1, mean gain -0.11916\n",
      "LR: 1, Gamma: 0.2, mean gain -0.66039\n",
      "LR: 1, Gamma: 0.4, mean gain -0.34993\n",
      "LR: 1, Gamma: 0.6, mean gain -0.66503\n",
      "LR: 1, Gamma: 0.8, mean gain -0.24331\n",
      "LR: 1, Gamma: 1, mean gain -0.19485\n"
     ]
    }
   ],
   "source": [
    "best_gain = -1\n",
    "for lr in [0.00001, 0.0001, 0.001, 0.01, 0.1, 1]:\n",
    "    for gamma in [0.2, 0.4, 0.6, 0.8, 1]:\n",
    "        qdoubleplayer = QDoublePlayer(env, lr, gamma)\n",
    "        qdoubleplayer.init_random_Q()\n",
    "        for _ in range(500000):\n",
    "            states, actions, rewards = qdoubleplayer.run_episode()\n",
    "            gain.append(rewards[-1])\n",
    "        mean_gain = np.mean(gain[-100000:])\n",
    "        print(f\"LR: {lr}, Gamma: {gamma}, mean gain {mean_gain}\")\n",
    "        if mean_gain > best_gain:\n",
    "            best_gamma = gamma\n",
    "            best_lr = lr\n",
    "            best_gain = mean_gain"
   ]
  },
  {
   "cell_type": "markdown",
   "id": "39caf7d4",
   "metadata": {},
   "source": [
    "## Выводы пункт 2"
   ]
  },
  {
   "cell_type": "markdown",
   "id": "bf9c2cfb",
   "metadata": {
    "ExecuteTime": {
     "end_time": "2021-10-17T10:39:57.861984Z",
     "start_time": "2021-10-17T10:39:57.856852Z"
    }
   },
   "source": [
    "Средний проигрыш лучшего игрока (с параметрами lr=0.001, gamma=0,2) 0.07762 <br>"
   ]
  },
  {
   "cell_type": "markdown",
   "id": "640e2582",
   "metadata": {},
   "source": [
    "# Пункт 3"
   ]
  },
  {
   "cell_type": "markdown",
   "id": "80174cfb",
   "metadata": {},
   "source": [
    "В этот раз не получилось воспользоваться готовой средой, поэтому возьмем из задания. Для подсчета карт использовал стратегию  «Плюс-минус»  https://ru.wikipedia.org/wiki/%D0%91%D0%BB%D1%8D%D0%BA%D0%B4%D0%B6%D0%B5%D0%BA"
   ]
  },
  {
   "cell_type": "code",
   "execution_count": 145,
   "id": "c3821865",
   "metadata": {
    "ExecuteTime": {
     "end_time": "2021-10-21T16:57:21.646211Z",
     "start_time": "2021-10-21T16:57:21.633224Z"
    }
   },
   "outputs": [],
   "source": [
    "def cmp(a, b):\n",
    "    return float(a > b) - float(a < b)\n",
    "\n",
    "class BlackjackDoubleCountingEnv(gym.Env):\n",
    "    \n",
    "    def __init__(self):\n",
    "        self.plus_minus_count = {\n",
    "            2: 1,\n",
    "            3: 1,\n",
    "            4: 1,\n",
    "            5: 1,\n",
    "            6: 1,\n",
    "            7: 0,\n",
    "            8: 0,\n",
    "            9: 0,\n",
    "            10: -1,\n",
    "            11: -1,\n",
    "        }\n",
    "        self.action_space = spaces.Discrete(3)\n",
    "        self.observation_space = spaces.Tuple((\n",
    "            spaces.Discrete(32),\n",
    "            spaces.Discrete(11),\n",
    "            spaces.Discrete(2),\n",
    "            spaces.Discrete(42)))\n",
    "        self.seed()\n",
    "        self.full_deck = [2, 3, 4, 5, 6, 7, 8, 9, 10, 10, 10, 10, 11] * 4\n",
    "        self.deck = deepcopy(self.full_deck)\n",
    "        self.count = 0\n",
    "        self.reset()\n",
    "\n",
    "\n",
    "    def seed(self, seed=None):\n",
    "        self.np_random, seed = seeding.np_random(seed)\n",
    "        return [seed]\n",
    "\n",
    "\n",
    "    def step(self, action):\n",
    "        assert self.action_space.contains(action)\n",
    "        if action == 1:  # hit: add a card to players hand and return\n",
    "            card = self.draw_card()\n",
    "            self.count_card(card)\n",
    "            self.player.append(card)\n",
    "            if self.is_bust(self.player):\n",
    "                done = True\n",
    "                reward = -1.\n",
    "            else:\n",
    "                done = False\n",
    "                reward = 0.\n",
    "        elif action == 0:\n",
    "            done = True\n",
    "            while self.sum_hand(self.dealer) < 17:\n",
    "                self.dealer.append(self.draw_card())\n",
    "            for card in self.dealer[1:]:\n",
    "                self.count_card(card)\n",
    "            reward = cmp(self.score(self.player), self.score(self.dealer))\n",
    "\n",
    "        elif action == 2:\n",
    "            card = self.draw_card()\n",
    "            self.count_card(card)\n",
    "            self.player.append(card)\n",
    "            done = True\n",
    "            while self.sum_hand(self.dealer) < 17:\n",
    "                self.dealer.append(self.draw_card())\n",
    "            for card in self.dealer[1:]:\n",
    "                self.count_card(card)\n",
    "            reward = cmp(self.score(self.player), self.score(self.dealer)) * 2\n",
    "            \n",
    "        return self._get_obs(), reward, done, {}\n",
    "\n",
    "    def _get_obs(self):\n",
    "        return (self.sum_hand(self.player), self.dealer[0], False, self.count)\n",
    "    \n",
    "    def count_card(self, card):\n",
    "        self.count += self.plus_minus_count[card] \n",
    "\n",
    "    def reset(self):\n",
    "        if len(self.deck) < 15:\n",
    "            self.deck = deepcopy(self.full_deck)\n",
    "            self.count = 0\n",
    "        self.dealer = self.draw_hand()\n",
    "        self.count_card(self.dealer[0])\n",
    "        self.player = self.draw_hand()\n",
    "        self.count_card(self.player[0])\n",
    "        self.count_card(self.player[1])\n",
    "        return self._get_obs()\n",
    "    \n",
    "    def draw_card(self):\n",
    "        card = np.random.choice(self.deck)\n",
    "        self.deck.remove(card)\n",
    "        return card\n",
    "\n",
    "\n",
    "    def draw_hand(self):\n",
    "        return [self.draw_card(), self.draw_card()]\n",
    "    \n",
    "    @staticmethod\n",
    "    def sum_hand(hand):\n",
    "        return sum(hand)\n",
    "    \n",
    "    def is_bust(self, hand):  # Is this hand a bust?\n",
    "        return self.sum_hand(hand) > 21\n",
    "    \n",
    "    def score(self, hand):  # What is the score of this hand (0 if bust)\n",
    "        return 0 if self.is_bust(hand) else self.sum_hand(hand)"
   ]
  },
  {
   "cell_type": "code",
   "execution_count": 146,
   "id": "76dc1b20",
   "metadata": {
    "ExecuteTime": {
     "end_time": "2021-10-21T16:57:22.012711Z",
     "start_time": "2021-10-21T16:57:22.009061Z"
    }
   },
   "outputs": [],
   "source": [
    "custom_env = BlackjackDoubleCountingEnv()"
   ]
  },
  {
   "cell_type": "code",
   "execution_count": 147,
   "id": "064fb31a",
   "metadata": {
    "ExecuteTime": {
     "end_time": "2021-10-21T16:57:22.435465Z",
     "start_time": "2021-10-21T16:57:22.431214Z"
    }
   },
   "outputs": [
    {
     "data": {
      "text/plain": [
       "(16, 6, False, 0)"
      ]
     },
     "execution_count": 147,
     "metadata": {},
     "output_type": "execute_result"
    }
   ],
   "source": [
    "custom_env.reset()"
   ]
  },
  {
   "cell_type": "code",
   "execution_count": 148,
   "id": "e5dfee9c",
   "metadata": {
    "ExecuteTime": {
     "end_time": "2021-10-21T16:57:22.914495Z",
     "start_time": "2021-10-21T16:57:22.905249Z"
    }
   },
   "outputs": [],
   "source": [
    "class QDustinPlayer(BlackJackGamer):\n",
    "    \n",
    "    def __init__(self, env, lr, gamma) -> None:\n",
    "        super(QDustinPlayer, self).__init__(env)\n",
    "        self.Q = {}\n",
    "        self.lr = lr\n",
    "        self.gamma = gamma\n",
    "        self.last_action = 0\n",
    "        \n",
    "    def init_random_Q(self):\n",
    "        self.Q = defaultdict(dict)\n",
    "        for counter in range(-22, 23):\n",
    "            for i in range(12):\n",
    "                self.Q[counter][i] = np.array([0, 1, 0])\n",
    "            for i in range(22, 32):\n",
    "                self.Q[counter][i] = np.array([0, 0, 0])\n",
    "            for i in range(12, 22):\n",
    "                self.Q[counter][i] = np.random.random(3)\n",
    "            self.Q[counter][21][2] = 0\n",
    "            self.Q[counter][21][1] = 0\n",
    "            self.Q[counter][21][0] = 1\n",
    "        \n",
    "    \n",
    "    def run_episode(self):\n",
    "        states, actions, rewards = [], [], []\n",
    "        observation = self.env.reset()\n",
    "        s, _, __, cnt = observation \n",
    "        action = self.policy(observation, cnt)\n",
    "        while True:\n",
    "            states.append(s)        \n",
    "            actions.append(action)\n",
    "            observation, reward, done, info = self.env.step(action)\n",
    "            s_prime, _, __, cnt = observation\n",
    "            a_prime = self.policy(observation, cnt)\n",
    "            if s > 12 and s < 21:\n",
    "                self.Q[cnt][s][action] = self.Q[cnt][s][action] + self.lr * (reward + self.gamma * np.max(self.Q[cnt][s_prime]) - self.Q[cnt][s][action])\n",
    "            s, action = s_prime, a_prime\n",
    "            rewards.append(reward)\n",
    "            if done:\n",
    "                return states, actions, rewards              \n",
    "    \n",
    "    def policy(self, observation, count) -> int:\n",
    "        score, dealer_score, usable_ace, _ = observation\n",
    "        if score > 21:\n",
    "            return 0\n",
    "        return np.argmax(self.Q[count][score])"
   ]
  },
  {
   "cell_type": "code",
   "execution_count": 170,
   "id": "30742bb5",
   "metadata": {
    "ExecuteTime": {
     "end_time": "2021-10-21T17:09:47.134657Z",
     "start_time": "2021-10-21T17:09:47.131809Z"
    }
   },
   "outputs": [],
   "source": [
    "dustin = QDustinPlayer(custom_env, 0.0001, 0.4)"
   ]
  },
  {
   "cell_type": "code",
   "execution_count": 171,
   "id": "10d6e811",
   "metadata": {
    "ExecuteTime": {
     "end_time": "2021-10-21T17:09:47.690596Z",
     "start_time": "2021-10-21T17:09:47.683218Z"
    }
   },
   "outputs": [],
   "source": [
    "dustin.init_random_Q()"
   ]
  },
  {
   "cell_type": "code",
   "execution_count": null,
   "id": "2451e309",
   "metadata": {
    "ExecuteTime": {
     "start_time": "2021-10-21T17:09:53.316Z"
    }
   },
   "outputs": [],
   "source": [
    "gain = []\n",
    "for _ in range(10000000):\n",
    "    states, actions, rewards = dustin.run_episode()\n",
    "    gain.append(rewards[-1])"
   ]
  },
  {
   "cell_type": "code",
   "execution_count": 168,
   "id": "c715ec1f",
   "metadata": {
    "ExecuteTime": {
     "end_time": "2021-10-21T17:09:31.900139Z",
     "start_time": "2021-10-21T17:09:31.888141Z"
    }
   },
   "outputs": [
    {
     "data": {
      "text/plain": [
       "-0.10748"
      ]
     },
     "execution_count": 168,
     "metadata": {},
     "output_type": "execute_result"
    }
   ],
   "source": [
    "np.mean(gain[-100000:])"
   ]
  },
  {
   "cell_type": "code",
   "execution_count": 169,
   "id": "7983523b",
   "metadata": {
    "ExecuteTime": {
     "end_time": "2021-10-21T17:09:35.059223Z",
     "start_time": "2021-10-21T17:09:34.751454Z"
    }
   },
   "outputs": [
    {
     "data": {
      "text/plain": [
       "[<matplotlib.lines.Line2D at 0x7f621d355210>]"
      ]
     },
     "execution_count": 169,
     "metadata": {},
     "output_type": "execute_result"
    },
    {
     "data": {
      "image/png": "[encoded data removed]",
      "text/plain": [
       "<Figure size 432x288 with 1 Axes>"
      ]
     },
     "metadata": {
      "needs_background": "light"
     },
     "output_type": "display_data"
    }
   ],
   "source": [
    "plt.plot(moving_average(gain, 100))"
   ]
  },
  {
   "cell_type": "code",
   "execution_count": 156,
   "id": "078afa46",
   "metadata": {
    "ExecuteTime": {
     "end_time": "2021-10-21T17:02:23.516918Z",
     "start_time": "2021-10-21T17:00:39.702810Z"
    }
   },
   "outputs": [
    {
     "name": "stdout",
     "output_type": "stream",
     "text": [
      "LR: 1e-05, Gamma: 0.2, mean gain -0.44777\n"
     ]
    },
    {
     "ename": "KeyboardInterrupt",
     "evalue": "",
     "output_type": "error",
     "traceback": [
      "\u001b[0;31m---------------------------------------------------------------------------\u001b[0m",
      "\u001b[0;31mKeyboardInterrupt\u001b[0m                         Traceback (most recent call last)",
      "\u001b[0;32m<ipython-input-156-b263d09ba76e>\u001b[0m in \u001b[0;36m<module>\u001b[0;34m\u001b[0m\n\u001b[1;32m      5\u001b[0m         \u001b[0mdustin\u001b[0m\u001b[0;34m.\u001b[0m\u001b[0minit_random_Q\u001b[0m\u001b[0;34m(\u001b[0m\u001b[0;34m)\u001b[0m\u001b[0;34m\u001b[0m\u001b[0;34m\u001b[0m\u001b[0m\n\u001b[1;32m      6\u001b[0m         \u001b[0;32mfor\u001b[0m \u001b[0m_\u001b[0m \u001b[0;32min\u001b[0m \u001b[0mrange\u001b[0m\u001b[0;34m(\u001b[0m\u001b[0;36m500000\u001b[0m\u001b[0;34m)\u001b[0m\u001b[0;34m:\u001b[0m\u001b[0;34m\u001b[0m\u001b[0;34m\u001b[0m\u001b[0m\n\u001b[0;32m----> 7\u001b[0;31m             \u001b[0mstates\u001b[0m\u001b[0;34m,\u001b[0m \u001b[0mactions\u001b[0m\u001b[0;34m,\u001b[0m \u001b[0mrewards\u001b[0m \u001b[0;34m=\u001b[0m \u001b[0mdustin\u001b[0m\u001b[0;34m.\u001b[0m\u001b[0mrun_episode\u001b[0m\u001b[0;34m(\u001b[0m\u001b[0;34m)\u001b[0m\u001b[0;34m\u001b[0m\u001b[0;34m\u001b[0m\u001b[0m\n\u001b[0m\u001b[1;32m      8\u001b[0m             \u001b[0mgain\u001b[0m\u001b[0;34m.\u001b[0m\u001b[0mappend\u001b[0m\u001b[0;34m(\u001b[0m\u001b[0mrewards\u001b[0m\u001b[0;34m[\u001b[0m\u001b[0;34m-\u001b[0m\u001b[0;36m1\u001b[0m\u001b[0;34m]\u001b[0m\u001b[0;34m)\u001b[0m\u001b[0;34m\u001b[0m\u001b[0;34m\u001b[0m\u001b[0m\n\u001b[1;32m      9\u001b[0m         \u001b[0mmean_gain\u001b[0m \u001b[0;34m=\u001b[0m \u001b[0mnp\u001b[0m\u001b[0;34m.\u001b[0m\u001b[0mmean\u001b[0m\u001b[0;34m(\u001b[0m\u001b[0mgain\u001b[0m\u001b[0;34m[\u001b[0m\u001b[0;34m-\u001b[0m\u001b[0;36m100000\u001b[0m\u001b[0;34m:\u001b[0m\u001b[0;34m]\u001b[0m\u001b[0;34m)\u001b[0m\u001b[0;34m\u001b[0m\u001b[0;34m\u001b[0m\u001b[0m\n",
      "\u001b[0;32m<ipython-input-148-8e25c5c8ec99>\u001b[0m in \u001b[0;36mrun_episode\u001b[0;34m(self)\u001b[0m\n\u001b[1;32m     30\u001b[0m             \u001b[0mstates\u001b[0m\u001b[0;34m.\u001b[0m\u001b[0mappend\u001b[0m\u001b[0;34m(\u001b[0m\u001b[0ms\u001b[0m\u001b[0;34m)\u001b[0m\u001b[0;34m\u001b[0m\u001b[0;34m\u001b[0m\u001b[0m\n\u001b[1;32m     31\u001b[0m             \u001b[0mactions\u001b[0m\u001b[0;34m.\u001b[0m\u001b[0mappend\u001b[0m\u001b[0;34m(\u001b[0m\u001b[0maction\u001b[0m\u001b[0;34m)\u001b[0m\u001b[0;34m\u001b[0m\u001b[0;34m\u001b[0m\u001b[0m\n\u001b[0;32m---> 32\u001b[0;31m             \u001b[0mobservation\u001b[0m\u001b[0;34m,\u001b[0m \u001b[0mreward\u001b[0m\u001b[0;34m,\u001b[0m \u001b[0mdone\u001b[0m\u001b[0;34m,\u001b[0m \u001b[0minfo\u001b[0m \u001b[0;34m=\u001b[0m \u001b[0mself\u001b[0m\u001b[0;34m.\u001b[0m\u001b[0menv\u001b[0m\u001b[0;34m.\u001b[0m\u001b[0mstep\u001b[0m\u001b[0;34m(\u001b[0m\u001b[0maction\u001b[0m\u001b[0;34m)\u001b[0m\u001b[0;34m\u001b[0m\u001b[0;34m\u001b[0m\u001b[0m\n\u001b[0m\u001b[1;32m     33\u001b[0m             \u001b[0ms_prime\u001b[0m\u001b[0;34m,\u001b[0m \u001b[0m_\u001b[0m\u001b[0;34m,\u001b[0m \u001b[0m__\u001b[0m\u001b[0;34m,\u001b[0m \u001b[0mcnt\u001b[0m \u001b[0;34m=\u001b[0m \u001b[0mobservation\u001b[0m\u001b[0;34m\u001b[0m\u001b[0;34m\u001b[0m\u001b[0m\n\u001b[1;32m     34\u001b[0m             \u001b[0ma_prime\u001b[0m \u001b[0;34m=\u001b[0m \u001b[0mself\u001b[0m\u001b[0;34m.\u001b[0m\u001b[0mpolicy\u001b[0m\u001b[0;34m(\u001b[0m\u001b[0mobservation\u001b[0m\u001b[0;34m,\u001b[0m \u001b[0mcnt\u001b[0m\u001b[0;34m)\u001b[0m\u001b[0;34m\u001b[0m\u001b[0;34m\u001b[0m\u001b[0m\n",
      "\u001b[0;32m<ipython-input-145-b6fa51ffaf52>\u001b[0m in \u001b[0;36mstep\u001b[0;34m(self, action)\u001b[0m\n\u001b[1;32m     50\u001b[0m             \u001b[0mdone\u001b[0m \u001b[0;34m=\u001b[0m \u001b[0;32mTrue\u001b[0m\u001b[0;34m\u001b[0m\u001b[0;34m\u001b[0m\u001b[0m\n\u001b[1;32m     51\u001b[0m             \u001b[0;32mwhile\u001b[0m \u001b[0mself\u001b[0m\u001b[0;34m.\u001b[0m\u001b[0msum_hand\u001b[0m\u001b[0;34m(\u001b[0m\u001b[0mself\u001b[0m\u001b[0;34m.\u001b[0m\u001b[0mdealer\u001b[0m\u001b[0;34m)\u001b[0m \u001b[0;34m<\u001b[0m \u001b[0;36m17\u001b[0m\u001b[0;34m:\u001b[0m\u001b[0;34m\u001b[0m\u001b[0;34m\u001b[0m\u001b[0m\n\u001b[0;32m---> 52\u001b[0;31m                 \u001b[0mself\u001b[0m\u001b[0;34m.\u001b[0m\u001b[0mdealer\u001b[0m\u001b[0;34m.\u001b[0m\u001b[0mappend\u001b[0m\u001b[0;34m(\u001b[0m\u001b[0mself\u001b[0m\u001b[0;34m.\u001b[0m\u001b[0mdraw_card\u001b[0m\u001b[0;34m(\u001b[0m\u001b[0;34m)\u001b[0m\u001b[0;34m)\u001b[0m\u001b[0;34m\u001b[0m\u001b[0;34m\u001b[0m\u001b[0m\n\u001b[0m\u001b[1;32m     53\u001b[0m             \u001b[0;32mfor\u001b[0m \u001b[0mcard\u001b[0m \u001b[0;32min\u001b[0m \u001b[0mself\u001b[0m\u001b[0;34m.\u001b[0m\u001b[0mdealer\u001b[0m\u001b[0;34m[\u001b[0m\u001b[0;36m1\u001b[0m\u001b[0;34m:\u001b[0m\u001b[0;34m]\u001b[0m\u001b[0;34m:\u001b[0m\u001b[0;34m\u001b[0m\u001b[0;34m\u001b[0m\u001b[0m\n\u001b[1;32m     54\u001b[0m                 \u001b[0mself\u001b[0m\u001b[0;34m.\u001b[0m\u001b[0mcount_card\u001b[0m\u001b[0;34m(\u001b[0m\u001b[0mcard\u001b[0m\u001b[0;34m)\u001b[0m\u001b[0;34m\u001b[0m\u001b[0;34m\u001b[0m\u001b[0m\n",
      "\u001b[0;32m<ipython-input-145-b6fa51ffaf52>\u001b[0m in \u001b[0;36mdraw_card\u001b[0;34m(self)\u001b[0m\n\u001b[1;32m     86\u001b[0m \u001b[0;34m\u001b[0m\u001b[0m\n\u001b[1;32m     87\u001b[0m     \u001b[0;32mdef\u001b[0m \u001b[0mdraw_card\u001b[0m\u001b[0;34m(\u001b[0m\u001b[0mself\u001b[0m\u001b[0;34m)\u001b[0m\u001b[0;34m:\u001b[0m\u001b[0;34m\u001b[0m\u001b[0;34m\u001b[0m\u001b[0m\n\u001b[0;32m---> 88\u001b[0;31m         \u001b[0mcard\u001b[0m \u001b[0;34m=\u001b[0m \u001b[0mnp\u001b[0m\u001b[0;34m.\u001b[0m\u001b[0mrandom\u001b[0m\u001b[0;34m.\u001b[0m\u001b[0mchoice\u001b[0m\u001b[0;34m(\u001b[0m\u001b[0mself\u001b[0m\u001b[0;34m.\u001b[0m\u001b[0mdeck\u001b[0m\u001b[0;34m)\u001b[0m\u001b[0;34m\u001b[0m\u001b[0;34m\u001b[0m\u001b[0m\n\u001b[0m\u001b[1;32m     89\u001b[0m         \u001b[0mself\u001b[0m\u001b[0;34m.\u001b[0m\u001b[0mdeck\u001b[0m\u001b[0;34m.\u001b[0m\u001b[0mremove\u001b[0m\u001b[0;34m(\u001b[0m\u001b[0mcard\u001b[0m\u001b[0;34m)\u001b[0m\u001b[0;34m\u001b[0m\u001b[0;34m\u001b[0m\u001b[0m\n\u001b[1;32m     90\u001b[0m         \u001b[0;32mreturn\u001b[0m \u001b[0mcard\u001b[0m\u001b[0;34m\u001b[0m\u001b[0;34m\u001b[0m\u001b[0m\n",
      "\u001b[0;32mmtrand.pyx\u001b[0m in \u001b[0;36mnumpy.random.mtrand.RandomState.choice\u001b[0;34m()\u001b[0m\n",
      "\u001b[0;32mmtrand.pyx\u001b[0m in \u001b[0;36mnumpy.random.mtrand.RandomState.randint\u001b[0;34m()\u001b[0m\n",
      "\u001b[0;32m_bounded_integers.pyx\u001b[0m in \u001b[0;36mnumpy.random._bounded_integers._rand_int64\u001b[0;34m()\u001b[0m\n",
      "\u001b[0;32m<__array_function__ internals>\u001b[0m in \u001b[0;36mprod\u001b[0;34m(*args, **kwargs)\u001b[0m\n",
      "\u001b[0;31mKeyboardInterrupt\u001b[0m: "
     ]
    }
   ],
   "source": [
    "best_gain = -1\n",
    "for lr in [0.00001, 0.0001, 0.001, 0.01, 0.1, 1]:\n",
    "    for gamma in [0.2, 0.4, 0.6, 0.8, 1]:\n",
    "        dustin = QDustinPlayer(custom_env, lr, gamma)\n",
    "        dustin.init_random_Q()\n",
    "        for _ in range(500000):\n",
    "            states, actions, rewards = dustin.run_episode()\n",
    "            gain.append(rewards[-1])\n",
    "        mean_gain = np.mean(gain[-100000:])\n",
    "        print(f\"LR: {lr}, Gamma: {gamma}, mean gain {mean_gain}\")\n",
    "        if mean_gain > best_gain:\n",
    "            best_gamma = gamma\n",
    "            best_lr = lr\n",
    "            best_gain = mean_gain"
   ]
  },
  {
   "cell_type": "markdown",
   "id": "6e2706d6",
   "metadata": {},
   "source": [
    "# end"
   ]
  },
  {
   "cell_type": "code",
   "execution_count": null,
   "id": "def1f968",
   "metadata": {},
   "outputs": [],
   "source": []
  }
 ],
 "metadata": {
  "kernelspec": {
   "display_name": "Python 3",
   "language": "python",
   "name": "python3"
  },
  "language_info": {
   "codemirror_mode": {
    "name": "ipython",
    "version": 3
   },
   "file_extension": ".py",
   "mimetype": "text/x-python",
   "name": "python",
   "nbconvert_exporter": "python",
   "pygments_lexer": "ipython3",
   "version": "3.7.10"
  },
  "toc": {
   "base_numbering": 1,
   "nav_menu": {},
   "number_sections": true,
   "sideBar": true,
   "skip_h1_title": false,
   "title_cell": "Table of Contents",
   "title_sidebar": "Contents",
   "toc_cell": false,
   "toc_position": {
    "height": "calc(100% - 180px)",
    "left": "10px",
    "top": "150px",
    "width": "383.982px"
   },
   "toc_section_display": true,
   "toc_window_display": true
  },
  "varInspector": {
   "cols": {
    "lenName": 16,
    "lenType": 16,
    "lenVar": 40
   },
   "kernels_config": {
    "python": {
     "delete_cmd_postfix": "",
     "delete_cmd_prefix": "del ",
     "library": "var_list.py",
     "varRefreshCmd": "print(var_dic_list())"
    },
    "r": {
     "delete_cmd_postfix": ") ",
     "delete_cmd_prefix": "rm(",
     "library": "var_list.r",
     "varRefreshCmd": "cat(var_dic_list()) "
    }
   },
   "types_to_exclude": [
    "module",
    "function",
    "builtin_function_or_method",
    "instance",
    "_Feature"
   ],
   "window_display": false
  }
 },
 "nbformat": 4,
 "nbformat_minor": 5
}
