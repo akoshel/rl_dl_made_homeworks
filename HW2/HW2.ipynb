{
 "cells": [
  {
   "cell_type": "markdown",
   "id": "6a410ec3",
   "metadata": {},
   "source": [
    "# Imports"
   ]
  },
  {
   "cell_type": "code",
   "execution_count": 215,
   "id": "24f4bc0e",
   "metadata": {
    "ExecuteTime": {
     "end_time": "2021-10-31T14:29:09.783477Z",
     "start_time": "2021-10-31T14:29:09.780531Z"
    }
   },
   "outputs": [],
   "source": [
    "from collections import defaultdict\n",
    "import numpy as np\n",
    "from copy import deepcopy\n",
    "import random\n",
    "import pickle\n",
    "import matplotlib.pyplot as plt"
   ]
  },
  {
   "cell_type": "code",
   "execution_count": 2,
   "id": "73447b3e",
   "metadata": {
    "ExecuteTime": {
     "end_time": "2021-10-31T08:26:18.588759Z",
     "start_time": "2021-10-31T08:26:18.082896Z"
    }
   },
   "outputs": [],
   "source": [
    "from env import TicTacToe\n",
    "from helpers import get_and_print_move, plot_board"
   ]
  },
  {
   "cell_type": "markdown",
   "id": "c234967d",
   "metadata": {
    "ExecuteTime": {
     "end_time": "2021-10-31T14:37:30.782265Z",
     "start_time": "2021-10-31T14:37:30.779677Z"
    }
   },
   "source": [
    "# Пункт 1 Q learning 3x3"
   ]
  },
  {
   "cell_type": "code",
   "execution_count": 549,
   "id": "5d994f47",
   "metadata": {
    "ExecuteTime": {
     "end_time": "2021-10-31T19:47:49.669844Z",
     "start_time": "2021-10-31T19:47:49.584776Z"
    }
   },
   "outputs": [],
   "source": [
    "env = TicTacToe(3, 3, 3)"
   ]
  },
  {
   "cell_type": "code",
   "execution_count": 550,
   "id": "bbebd8e9",
   "metadata": {
    "ExecuteTime": {
     "end_time": "2021-10-31T19:47:54.078665Z",
     "start_time": "2021-10-31T19:47:54.074291Z"
    }
   },
   "outputs": [],
   "source": [
    "env.reset()"
   ]
  },
  {
   "cell_type": "code",
   "execution_count": 551,
   "id": "3cc988c8",
   "metadata": {
    "ExecuteTime": {
     "end_time": "2021-10-31T19:47:57.779512Z",
     "start_time": "2021-10-31T19:47:57.754343Z"
    }
   },
   "outputs": [
    {
     "data": {
      "text/plain": [
       "('111111111',\n",
       " array([[0, 0],\n",
       "        [0, 1],\n",
       "        [0, 2],\n",
       "        [1, 0],\n",
       "        [1, 1],\n",
       "        [1, 2],\n",
       "        [2, 0],\n",
       "        [2, 1],\n",
       "        [2, 2]]),\n",
       " 1)"
      ]
     },
     "execution_count": 551,
     "metadata": {},
     "output_type": "execute_result"
    }
   ],
   "source": [
    "env.getState()"
   ]
  },
  {
   "cell_type": "code",
   "execution_count": 552,
   "id": "88077999",
   "metadata": {
    "ExecuteTime": {
     "end_time": "2021-10-31T19:48:02.346709Z",
     "start_time": "2021-10-31T19:48:02.328271Z"
    }
   },
   "outputs": [],
   "source": [
    "def get_empty_actions(state):\n",
    "    state_array = np.array(list(state))\n",
    "    return np.where(state_array == '1')[0]\n",
    "\n",
    "def get_blocked_actions(state):\n",
    "    state_array = np.array(list(state))\n",
    "    return np.where(state_array != '1')[0]"
   ]
  },
  {
   "cell_type": "code",
   "execution_count": null,
   "id": "d83846b4",
   "metadata": {
    "ExecuteTime": {
     "start_time": "2021-10-31T19:47:53.311Z"
    }
   },
   "outputs": [],
   "source": [
    "class Player:\n",
    "    def __init__(self, lr, gamma, Q, epsilon) -> None:\n",
    "        self.s = None\n",
    "        self.a = None\n",
    "        self.lr = lr\n",
    "        self.gamma = gamma\n",
    "        self.Q = Q\n",
    "        self.epsilon = epsilon\n",
    "        \n",
    "    def update_Q(self, Q, next_s, next_a, r) -> None:\n",
    "        if self.a is not None and self.s is not None:\n",
    "            self.Q[self.s][self.a] = self.Q[self.s][self.a] + self.lr * (\n",
    "                r + self.gamma * np.max(self.Q[next_s]) - self.Q[self.s][self.a])\n",
    "        self.s = next_s\n",
    "        self.a = next_a\n",
    "            \n",
    "    def get_action(self, s) -> int:\n",
    "        if np.random.random() < self.epsilon:\n",
    "            return random.choice(get_empty_actions(s))\n",
    "        self.Q[s][get_blocked_actions(s)] = float(\"-Inf\")\n",
    "        return np.argmax(self.Q[s])\n",
    "    \n",
    "    def get_greedy_action(self, s) -> int:\n",
    "        self.Q[s][get_blocked_actions(s)] = float(\"-Inf\")\n",
    "        return np.argmax(self.Q[s])"
   ]
  },
  {
   "cell_type": "code",
   "execution_count": null,
   "id": "151d9721",
   "metadata": {
    "ExecuteTime": {
     "start_time": "2021-10-31T19:47:54.383Z"
    }
   },
   "outputs": [],
   "source": [
    "class RandomPlayer:\n",
    "    def __init__(self):\n",
    "        ...\n",
    "        \n",
    "    def get_greedy_action(self, s) -> int:\n",
    "        return random.choice(get_empty_actions(s))"
   ]
  },
  {
   "cell_type": "code",
   "execution_count": 198,
   "id": "a9610fbd",
   "metadata": {
    "ExecuteTime": {
     "end_time": "2021-10-31T14:10:54.818296Z",
     "start_time": "2021-10-31T14:10:54.807619Z"
    }
   },
   "outputs": [],
   "source": [
    "class GameManager:\n",
    "    \n",
    "    def __init__(self, env):\n",
    "        self.env = env\n",
    "        lr = 0.03\n",
    "        gamma = 0.8\n",
    "        s, empty_spaces, turn =self.env.getState()\n",
    "        self.Q = defaultdict(lambda: np.random.rand(len(empty_spaces)))\n",
    "        self.players = [Player(lr, gamma, self.Q, 0.3), Player(lr, gamma, self.Q, 0.3)]\n",
    "        \n",
    "    def run_episode(self):\n",
    "        self.env.reset()\n",
    "        self.players[0].a = None\n",
    "        self.players[1].a = None\n",
    "        s, empty_spaces, turn =self.env.getState()\n",
    "        done = False\n",
    "        player_id = 0\n",
    "\n",
    "        while not done:\n",
    "            a = self.players[player_id].get_action(s)\n",
    "            self.players[player_id].update_Q(Q, s, a, 0)\n",
    "            player_id = 1 if player_id == 0 else 0 \n",
    "            (s, empty_spaces, turn), r , done, _ = env.step(env.action_from_int(a))\n",
    "        self.players[0].update_Q(Q, s, a, r) \n",
    "        self.players[1].update_Q(Q, s, a, -r)\n",
    "        \n",
    "    def evaluate_episode_with_random(self, random_player_id: int) -> float:\n",
    "        self.env.reset()\n",
    "        s, empty_spaces, turn =self.env.getState()\n",
    "        done = False\n",
    "        players_eval = deepcopy(self.players)\n",
    "        players_eval[random_player_id] = RandomPlayer()\n",
    "        player_id = 0\n",
    "        while not done:\n",
    "            a = players_eval[player_id].get_greedy_action(s)\n",
    "            player_id = 1 if player_id == 0 else 0 \n",
    "            (s, empty_spaces, turn), r , done, _ = env.step(env.action_from_int(a))\n",
    "        return r"
   ]
  },
  {
   "cell_type": "code",
   "execution_count": 194,
   "id": "849e8c88",
   "metadata": {
    "ExecuteTime": {
     "end_time": "2021-10-31T10:14:17.133945Z",
     "start_time": "2021-10-31T10:14:17.130862Z"
    }
   },
   "outputs": [],
   "source": [
    "game_manager = GameManager(env)"
   ]
  },
  {
   "cell_type": "code",
   "execution_count": 195,
   "id": "476fcfb7",
   "metadata": {
    "ExecuteTime": {
     "end_time": "2021-10-31T12:31:14.277205Z",
     "start_time": "2021-10-31T10:14:17.554326Z"
    }
   },
   "outputs": [
    {
     "name": "stdout",
     "output_type": "stream",
     "text": [
      "0.72 -0.19\n",
      "0.39 -0.38\n",
      "0.44 -0.1\n",
      "0.31 -0.26\n",
      "0.61 -0.2\n",
      "0.5 -0.13\n",
      "0.65 -0.24\n",
      "0.47 0.02\n",
      "0.5 -0.17\n",
      "0.59 0.11\n",
      "0.59 0.02\n",
      "0.57 -0.05\n",
      "0.34 0.15\n",
      "0.63 -0.12\n",
      "0.73 0.13\n",
      "0.48 0.05\n",
      "0.82 0.05\n",
      "0.84 -0.06\n",
      "0.34 -0.0\n",
      "0.85 -0.18\n",
      "0.85 0.07\n",
      "0.86 -0.16\n",
      "0.81 -0.17\n",
      "0.86 0.23\n",
      "0.81 0.01\n",
      "0.84 0.2\n",
      "0.78 0.18\n",
      "0.84 -0.0\n",
      "0.8 -0.05\n",
      "0.79 -0.04\n",
      "0.94 0.01\n",
      "0.87 -0.05\n",
      "0.86 0.03\n",
      "0.83 0.28\n",
      "0.92 -0.01\n",
      "0.81 0.04\n",
      "0.9 0.16\n",
      "0.83 0.09\n",
      "0.87 -0.16\n",
      "0.79 0.19\n",
      "0.91 0.08\n",
      "0.93 0.01\n",
      "0.93 -0.16\n",
      "0.93 -0.15\n",
      "0.92 0.15\n",
      "0.94 -0.05\n",
      "0.91 0.08\n",
      "0.93 0.08\n",
      "0.83 0.06\n",
      "0.98 0.04\n",
      "0.91 -0.09\n",
      "0.96 0.09\n",
      "0.93 0.15\n",
      "0.96 0.15\n",
      "0.63 -0.06\n",
      "0.74 0.09\n",
      "0.94 0.17\n",
      "0.84 0.04\n",
      "0.86 0.13\n",
      "0.87 0.05\n",
      "0.89 0.05\n",
      "0.9 -0.01\n",
      "0.91 0.08\n",
      "0.94 0.13\n",
      "0.92 0.24\n",
      "0.91 0.17\n",
      "0.81 0.11\n",
      "0.96 0.19\n",
      "0.93 -0.0\n",
      "0.75 0.07\n",
      "0.91 0.14\n",
      "0.48 0.05\n",
      "0.74 0.11\n",
      "0.6 0.16\n",
      "0.77 0.06\n",
      "0.66 0.01\n",
      "0.65 0.06\n",
      "0.67 0.11\n",
      "0.5 0.25\n",
      "0.64 0.08\n",
      "0.72 0.05\n",
      "0.68 0.18\n",
      "0.6 0.1\n",
      "0.4 0.16\n",
      "0.66 0.3\n",
      "0.63 0.28\n",
      "0.68 0.22\n",
      "0.61 0.12\n",
      "0.57 0.26\n",
      "0.72 -0.01\n",
      "0.86 0.05\n",
      "0.69 0.05\n",
      "0.59 0.19\n",
      "0.67 0.18\n",
      "0.56 0.25\n",
      "0.61 0.34\n",
      "0.53 0.1\n",
      "0.63 0.07\n",
      "0.57 0.18\n",
      "0.71 0.2\n"
     ]
    }
   ],
   "source": [
    "eval_results_o = []\n",
    "eval_results_x = []\n",
    "for i in range(100):\n",
    "    eval_x = []\n",
    "    eval_o = []\n",
    "    for _ in range(1000):\n",
    "        game_manager.run_episode()\n",
    "    for _ in range(100):\n",
    "        eval_x.append(game_manager.evaluate_episode_with_random(1))\n",
    "    for _ in range(100):\n",
    "        eval_o.append(game_manager.evaluate_episode_with_random(0))\n",
    "    mean_x = np.mean(eval_x)\n",
    "    mean_o = -1 * np.mean(eval_o)\n",
    "    print(mean_x, mean_o)\n",
    "    eval_results_x.append(mean_x)\n",
    "    eval_results_o.append(mean_o)"
   ]
  },
  {
   "cell_type": "code",
   "execution_count": 207,
   "id": "5b2214af",
   "metadata": {
    "ExecuteTime": {
     "end_time": "2021-10-31T14:14:39.459976Z",
     "start_time": "2021-10-31T14:14:39.422392Z"
    }
   },
   "outputs": [],
   "source": [
    "with open('q_dict.pkl', 'wb') as handle:\n",
    "    pickle.dump(dict(game_manager.Q), handle, protocol=pickle.HIGHEST_PROTOCOL)"
   ]
  },
  {
   "cell_type": "code",
   "execution_count": 212,
   "id": "86762ba3",
   "metadata": {
    "ExecuteTime": {
     "end_time": "2021-10-31T14:28:20.893949Z",
     "start_time": "2021-10-31T14:28:20.868565Z"
    }
   },
   "outputs": [],
   "source": [
    "with open('q_dict.pkl', 'rb') as f:\n",
    "    data_new = pickle.load(f)"
   ]
  },
  {
   "cell_type": "code",
   "execution_count": 222,
   "id": "ef4fbecd",
   "metadata": {
    "ExecuteTime": {
     "end_time": "2021-10-31T14:32:14.335516Z",
     "start_time": "2021-10-31T14:32:14.220655Z"
    }
   },
   "outputs": [
    {
     "data": {
      "text/plain": [
       "<matplotlib.legend.Legend at 0x7fc6fde2e290>"
      ]
     },
     "execution_count": 222,
     "metadata": {},
     "output_type": "execute_result"
    },
    {
     "data": {
      "image/png": "[encoded data removed]",
      "text/plain": [
       "<Figure size 432x288 with 1 Axes>"
      ]
     },
     "metadata": {
      "needs_background": "light"
     },
     "output_type": "display_data"
    }
   ],
   "source": [
    "plt.plot(eval_results_x, label=\"X\")\n",
    "plt.plot(np.array(eval_results_o) * -1, label=\"O\")\n",
    "plt.legend()"
   ]
  },
  {
   "cell_type": "markdown",
   "id": "f79ef942",
   "metadata": {},
   "source": [
    "## Q learning 4x4"
   ]
  },
  {
   "cell_type": "code",
   "execution_count": 223,
   "id": "5c75d815",
   "metadata": {
    "ExecuteTime": {
     "end_time": "2021-10-31T14:36:33.142640Z",
     "start_time": "2021-10-31T14:36:33.139630Z"
    }
   },
   "outputs": [],
   "source": [
    "env4 = TicTacToe(4, 4, 4)"
   ]
  },
  {
   "cell_type": "code",
   "execution_count": null,
   "id": "7db7e30e",
   "metadata": {},
   "outputs": [],
   "source": [
    "game_manager4 = GameManager(env4)\n",
    "\n",
    "eval_results_o = []\n",
    "eval_results_x = []\n",
    "for i in range(100):\n",
    "    eval_x = []\n",
    "    eval_o = []\n",
    "    for _ in range(2000):\n",
    "        game_manager4.run_episode()\n",
    "    for _ in range(100):\n",
    "        eval_x.append(game_manager4.evaluate_episode_with_random(1))\n",
    "    for _ in range(100):\n",
    "        eval_o.append(game_manager4.evaluate_episode_with_random(0))\n",
    "    mean_x = np.mean(eval_x)\n",
    "    mean_o = -1 * np.mean(eval_o)\n",
    "    print(mean_x, mean_o)\n",
    "    eval_results_x.append(mean_x)\n",
    "    eval_results_o.append(mean_o)"
   ]
  },
  {
   "cell_type": "markdown",
   "id": "8132811b",
   "metadata": {},
   "source": [
    "## Q learning 5x5"
   ]
  },
  {
   "cell_type": "code",
   "execution_count": null,
   "id": "08eb86c3",
   "metadata": {},
   "outputs": [],
   "source": [
    "env5 = TicTacToe(5, 5, 5)"
   ]
  },
  {
   "cell_type": "code",
   "execution_count": null,
   "id": "db4024c5",
   "metadata": {},
   "outputs": [],
   "source": [
    "game_manager5 = GameManager(env5)\n",
    "\n",
    "eval_results_o = []\n",
    "eval_results_x = []\n",
    "for i in range(100):\n",
    "    eval_x = []\n",
    "    eval_o = []\n",
    "    for _ in range(4000):\n",
    "        game_manager4.run_episode()\n",
    "    for _ in range(100):\n",
    "        eval_x.append(game_manager4.evaluate_episode_with_random(1))\n",
    "    for _ in range(100):\n",
    "        eval_o.append(game_manager4.evaluate_episode_with_random(0))\n",
    "    mean_x = np.mean(eval_x)\n",
    "    mean_o = -1 * np.mean(eval_o)\n",
    "    print(mean_x, mean_o)\n",
    "    eval_results_x.append(mean_x)\n",
    "    eval_results_o.append(mean_o)"
   ]
  },
  {
   "cell_type": "markdown",
   "id": "814551fa",
   "metadata": {},
   "source": [
    "# Пункт 2"
   ]
  },
  {
   "cell_type": "code",
   "execution_count": 516,
   "id": "64f51303",
   "metadata": {
    "ExecuteTime": {
     "end_time": "2021-10-31T18:45:17.815527Z",
     "start_time": "2021-10-31T18:45:17.806195Z"
    }
   },
   "outputs": [
    {
     "data": {
      "text/plain": [
       "<module 'dqn' from '/mnt/c/Homeworks/rl_dl_made_homeworks/HW2/dqn.py'>"
      ]
     },
     "execution_count": 516,
     "metadata": {},
     "output_type": "execute_result"
    }
   ],
   "source": [
    "import dqn\n",
    "import importlib\n",
    "importlib.reload(dqn)"
   ]
  },
  {
   "cell_type": "code",
   "execution_count": 517,
   "id": "ad46eea2",
   "metadata": {
    "ExecuteTime": {
     "end_time": "2021-10-31T18:45:20.226288Z",
     "start_time": "2021-10-31T18:45:20.223700Z"
    }
   },
   "outputs": [],
   "source": [
    "from dqn import DQN, ReplayMemory, Transition"
   ]
  },
  {
   "cell_type": "code",
   "execution_count": 536,
   "id": "2562c61d",
   "metadata": {
    "ExecuteTime": {
     "end_time": "2021-10-31T18:56:01.867617Z",
     "start_time": "2021-10-31T18:56:01.860535Z"
    }
   },
   "outputs": [],
   "source": [
    "def prepare_memory_s(s: str):\n",
    "    return np.array(list(s)).astype(float).reshape(3, 3)\n",
    "\n",
    "class PlayerDQN:\n",
    "    def __init__(self, lr, gamma, model, memory, epsilon) -> None:\n",
    "        self.s = None\n",
    "        self.a = None\n",
    "        self.lr = lr\n",
    "        self.gamma = gamma\n",
    "        self.model = model\n",
    "        self.memory = memory\n",
    "        self.epsilon = epsilon\n",
    "        \n",
    "    def update_memory(self, next_s, next_a, r) -> None:\n",
    "        if self.a is not None and self.s is not None:\n",
    "            mask = get_blocked_actions(s)\n",
    "            self.memory.store((prepare_memory_s(self.s), self.a, prepare_memory_s(next_s), r, mask))\n",
    "        self.s = next_s\n",
    "        self.a = next_a\n",
    "            \n",
    "    def get_action(self, s) -> int:\n",
    "        if np.random.random() < self.epsilon:\n",
    "            return random.choice(get_empty_actions(s))\n",
    "        s_tensor = torch.Tensor(prepare_memory_s(s)).view(-1, 1, 3, 3)\n",
    "        actions = self.model(s_tensor)\n",
    "        actions = actions.flatten()\n",
    "        actions[get_blocked_actions(s)] = -999999999\n",
    "        return actions.argmax()\n",
    "    \n",
    "    def get_greedy_action(self, s) -> int:\n",
    "        s_tensor = torch.Tensor(prepare_memory_s(s)).view(-1, 1, 3, 3)\n",
    "        actions = self.model(s_tensor)\n",
    "        actions = actions.flatten()\n",
    "        actions[get_blocked_actions(s)] = -999999999\n",
    "        return actions.argmax()"
   ]
  },
  {
   "cell_type": "code",
   "execution_count": 540,
   "id": "2fefc16c",
   "metadata": {
    "ExecuteTime": {
     "end_time": "2021-10-31T18:59:04.711377Z",
     "start_time": "2021-10-31T18:59:04.699974Z"
    }
   },
   "outputs": [],
   "source": [
    "class GameManagerDQN:\n",
    "    \n",
    "    def __init__(self, env, batch_size=256):\n",
    "        self.batch_size = batch_size\n",
    "        self.memory = ReplayMemory(10000)\n",
    "        self.env = env\n",
    "        s, empty_spaces, turn =self.env.getState()\n",
    "        lr = 0.00001\n",
    "        gamma = 0.8\n",
    "        self.dqn = DQN(128, 3, (len(empty_spaces)), lr, gamma)\n",
    "        self.players = [PlayerDQN(lr, gamma, self.dqn.model, self.memory, 0.3),\n",
    "                        PlayerDQN(lr, gamma, self.dqn.model, self.memory, 0.3)]\n",
    "        \n",
    "        \n",
    "    def run_episode(self):\n",
    "        self.env.reset()\n",
    "        self.players[0].a = None\n",
    "        self.players[1].a = None\n",
    "        s, empty_spaces, turn =self.env.getState()\n",
    "        done = False\n",
    "        player_id = 0\n",
    "\n",
    "        while not done:\n",
    "            a = self.players[player_id].get_action(s)\n",
    "            self.players[player_id].update_memory(s, a, 0)\n",
    "            player_id = 1 if player_id == 0 else 0 \n",
    "            (s, empty_spaces, turn), r , done, _ = env.step(env.action_from_int(a))\n",
    "        self.players[0].update_memory(s, a, r) \n",
    "        self.players[1].update_memory(s, a, -r)\n",
    "        \n",
    "    def update_weights(self) -> None:\n",
    "        transitions = self.memory.sample(self.batch_size)\n",
    "        self.dqn.train_step(transitions)\n",
    "        \n",
    "    def evaluate_episode_with_random(self, random_player_id: int) -> float:\n",
    "        self.env.reset()\n",
    "        s, empty_spaces, turn =self.env.getState()\n",
    "        done = False\n",
    "        players_eval = deepcopy(self.players)\n",
    "        players_eval[random_player_id] = RandomPlayer()\n",
    "        player_id = 0\n",
    "        while not done:\n",
    "            a = players_eval[player_id].get_greedy_action(s)\n",
    "            player_id = 1 if player_id == 0 else 0 \n",
    "            (s, empty_spaces, turn), r , done, _ = env.step(env.action_from_int(a))\n",
    "        return r"
   ]
  },
  {
   "cell_type": "code",
   "execution_count": 541,
   "id": "cd434b64",
   "metadata": {
    "ExecuteTime": {
     "end_time": "2021-10-31T18:59:07.233819Z",
     "start_time": "2021-10-31T18:59:07.230563Z"
    }
   },
   "outputs": [],
   "source": [
    "env = TicTacToe(3, 3, 3)"
   ]
  },
  {
   "cell_type": "code",
   "execution_count": 542,
   "id": "35511c35",
   "metadata": {
    "ExecuteTime": {
     "end_time": "2021-10-31T19:09:17.492383Z",
     "start_time": "2021-10-31T18:59:09.758983Z"
    }
   },
   "outputs": [
    {
     "name": "stdout",
     "output_type": "stream",
     "text": [
      "Device: cpu\n",
      "0.95 0.54\n",
      "0.99 0.58\n",
      "0.98 0.66\n",
      "0.99 0.74\n",
      "0.77 0.76\n",
      "0.93 0.48\n"
     ]
    },
    {
     "ename": "KeyboardInterrupt",
     "evalue": "",
     "output_type": "error",
     "traceback": [
      "\u001b[0;31m---------------------------------------------------------------------------\u001b[0m",
      "\u001b[0;31mKeyboardInterrupt\u001b[0m                         Traceback (most recent call last)",
      "\u001b[0;32m<ipython-input-542-de467cdf08a7>\u001b[0m in \u001b[0;36m<module>\u001b[0;34m\u001b[0m\n\u001b[1;32m     15\u001b[0m         \u001b[0msteps\u001b[0m \u001b[0;34m+=\u001b[0m \u001b[0;36m1\u001b[0m\u001b[0;34m\u001b[0m\u001b[0;34m\u001b[0m\u001b[0m\n\u001b[1;32m     16\u001b[0m         \u001b[0;32mif\u001b[0m \u001b[0msteps\u001b[0m \u001b[0;34m%\u001b[0m \u001b[0mSTEPS_PER_UPDATE\u001b[0m \u001b[0;34m==\u001b[0m \u001b[0;36m0\u001b[0m\u001b[0;34m:\u001b[0m\u001b[0;34m\u001b[0m\u001b[0;34m\u001b[0m\u001b[0m\n\u001b[0;32m---> 17\u001b[0;31m             \u001b[0mgame_manager_dqn\u001b[0m\u001b[0;34m.\u001b[0m\u001b[0mupdate_weights\u001b[0m\u001b[0;34m(\u001b[0m\u001b[0;34m)\u001b[0m\u001b[0;34m\u001b[0m\u001b[0;34m\u001b[0m\u001b[0m\n\u001b[0m\u001b[1;32m     18\u001b[0m         \u001b[0;32mif\u001b[0m \u001b[0msteps\u001b[0m \u001b[0;34m%\u001b[0m \u001b[0mSTEPS_PER_UPDATE_TARGET\u001b[0m \u001b[0;34m==\u001b[0m \u001b[0;36m0\u001b[0m\u001b[0;34m:\u001b[0m\u001b[0;34m\u001b[0m\u001b[0;34m\u001b[0m\u001b[0m\n\u001b[1;32m     19\u001b[0m             \u001b[0mgame_manager_dqn\u001b[0m\u001b[0;34m.\u001b[0m\u001b[0mdqn\u001b[0m\u001b[0;34m.\u001b[0m\u001b[0mupdate_target_network\u001b[0m\u001b[0;34m(\u001b[0m\u001b[0;34m)\u001b[0m\u001b[0;34m\u001b[0m\u001b[0;34m\u001b[0m\u001b[0m\n",
      "\u001b[0;32m<ipython-input-540-614805e22099>\u001b[0m in \u001b[0;36mupdate_weights\u001b[0;34m(self)\u001b[0m\n\u001b[1;32m     31\u001b[0m     \u001b[0;32mdef\u001b[0m \u001b[0mupdate_weights\u001b[0m\u001b[0;34m(\u001b[0m\u001b[0mself\u001b[0m\u001b[0;34m)\u001b[0m \u001b[0;34m->\u001b[0m \u001b[0;32mNone\u001b[0m\u001b[0;34m:\u001b[0m\u001b[0;34m\u001b[0m\u001b[0;34m\u001b[0m\u001b[0m\n\u001b[1;32m     32\u001b[0m         \u001b[0mtransitions\u001b[0m \u001b[0;34m=\u001b[0m \u001b[0mself\u001b[0m\u001b[0;34m.\u001b[0m\u001b[0mmemory\u001b[0m\u001b[0;34m.\u001b[0m\u001b[0msample\u001b[0m\u001b[0;34m(\u001b[0m\u001b[0mself\u001b[0m\u001b[0;34m.\u001b[0m\u001b[0mbatch_size\u001b[0m\u001b[0;34m)\u001b[0m\u001b[0;34m\u001b[0m\u001b[0;34m\u001b[0m\u001b[0m\n\u001b[0;32m---> 33\u001b[0;31m         \u001b[0mself\u001b[0m\u001b[0;34m.\u001b[0m\u001b[0mdqn\u001b[0m\u001b[0;34m.\u001b[0m\u001b[0mtrain_step\u001b[0m\u001b[0;34m(\u001b[0m\u001b[0mtransitions\u001b[0m\u001b[0;34m)\u001b[0m\u001b[0;34m\u001b[0m\u001b[0;34m\u001b[0m\u001b[0m\n\u001b[0m\u001b[1;32m     34\u001b[0m \u001b[0;34m\u001b[0m\u001b[0m\n\u001b[1;32m     35\u001b[0m     \u001b[0;32mdef\u001b[0m \u001b[0mevaluate_episode_with_random\u001b[0m\u001b[0;34m(\u001b[0m\u001b[0mself\u001b[0m\u001b[0;34m,\u001b[0m \u001b[0mrandom_player_id\u001b[0m\u001b[0;34m:\u001b[0m \u001b[0mint\u001b[0m\u001b[0;34m)\u001b[0m \u001b[0;34m->\u001b[0m \u001b[0mfloat\u001b[0m\u001b[0;34m:\u001b[0m\u001b[0;34m\u001b[0m\u001b[0;34m\u001b[0m\u001b[0m\n",
      "\u001b[0;32m/mnt/c/Homeworks/rl_dl_made_homeworks/HW2/dqn.py\u001b[0m in \u001b[0;36mtrain_step\u001b[0;34m(self, transitions)\u001b[0m\n\u001b[1;32m     41\u001b[0m         \u001b[0mbatch\u001b[0m \u001b[0;34m=\u001b[0m \u001b[0mTransition\u001b[0m\u001b[0;34m(\u001b[0m\u001b[0;34m*\u001b[0m\u001b[0mzip\u001b[0m\u001b[0;34m(\u001b[0m\u001b[0;34m*\u001b[0m\u001b[0mtransitions\u001b[0m\u001b[0;34m)\u001b[0m\u001b[0;34m)\u001b[0m\u001b[0;34m\u001b[0m\u001b[0;34m\u001b[0m\u001b[0m\n\u001b[1;32m     42\u001b[0m         \u001b[0;31m# Use batch to update DQN's network.\u001b[0m\u001b[0;34m\u001b[0m\u001b[0;34m\u001b[0m\u001b[0;34m\u001b[0m\u001b[0m\n\u001b[0;32m---> 43\u001b[0;31m         \u001b[0mstate_batch\u001b[0m \u001b[0;34m=\u001b[0m \u001b[0mtorch\u001b[0m\u001b[0;34m.\u001b[0m\u001b[0mTensor\u001b[0m\u001b[0;34m(\u001b[0m\u001b[0mbatch\u001b[0m\u001b[0;34m.\u001b[0m\u001b[0mstate\u001b[0m\u001b[0;34m)\u001b[0m\u001b[0;34m.\u001b[0m\u001b[0mview\u001b[0m\u001b[0;34m(\u001b[0m\u001b[0;34m-\u001b[0m\u001b[0;36m1\u001b[0m\u001b[0;34m,\u001b[0m \u001b[0;36m1\u001b[0m\u001b[0;34m,\u001b[0m \u001b[0;36m3\u001b[0m\u001b[0;34m,\u001b[0m \u001b[0;36m3\u001b[0m\u001b[0;34m)\u001b[0m\u001b[0;34m.\u001b[0m\u001b[0mto\u001b[0m\u001b[0;34m(\u001b[0m\u001b[0mself\u001b[0m\u001b[0;34m.\u001b[0m\u001b[0mdevice\u001b[0m\u001b[0;34m)\u001b[0m\u001b[0;34m\u001b[0m\u001b[0;34m\u001b[0m\u001b[0m\n\u001b[0m\u001b[1;32m     44\u001b[0m         \u001b[0maction_batch\u001b[0m \u001b[0;34m=\u001b[0m \u001b[0mtorch\u001b[0m\u001b[0;34m.\u001b[0m\u001b[0mTensor\u001b[0m\u001b[0;34m(\u001b[0m\u001b[0mbatch\u001b[0m\u001b[0;34m.\u001b[0m\u001b[0maction\u001b[0m\u001b[0;34m)\u001b[0m\u001b[0;34m.\u001b[0m\u001b[0munsqueeze\u001b[0m\u001b[0;34m(\u001b[0m\u001b[0;36m1\u001b[0m\u001b[0;34m)\u001b[0m\u001b[0;34m.\u001b[0m\u001b[0mto\u001b[0m\u001b[0;34m(\u001b[0m\u001b[0mself\u001b[0m\u001b[0;34m.\u001b[0m\u001b[0mdevice\u001b[0m\u001b[0;34m)\u001b[0m\u001b[0;34m\u001b[0m\u001b[0;34m\u001b[0m\u001b[0m\n\u001b[1;32m     45\u001b[0m         \u001b[0mreward_batch\u001b[0m \u001b[0;34m=\u001b[0m \u001b[0mtorch\u001b[0m\u001b[0;34m.\u001b[0m\u001b[0mTensor\u001b[0m\u001b[0;34m(\u001b[0m\u001b[0mbatch\u001b[0m\u001b[0;34m.\u001b[0m\u001b[0mreward\u001b[0m\u001b[0;34m)\u001b[0m\u001b[0;34m.\u001b[0m\u001b[0munsqueeze\u001b[0m\u001b[0;34m(\u001b[0m\u001b[0;36m1\u001b[0m\u001b[0;34m)\u001b[0m\u001b[0;34m.\u001b[0m\u001b[0mto\u001b[0m\u001b[0;34m(\u001b[0m\u001b[0mself\u001b[0m\u001b[0;34m.\u001b[0m\u001b[0mdevice\u001b[0m\u001b[0;34m)\u001b[0m\u001b[0;34m\u001b[0m\u001b[0;34m\u001b[0m\u001b[0m\n",
      "\u001b[0;31mKeyboardInterrupt\u001b[0m: "
     ]
    }
   ],
   "source": [
    "STEPS_PER_UPDATE = 4\n",
    "STEPS_PER_UPDATE_TARGET = 2000\n",
    "game_manager_dqn = GameManagerDQN(env)\n",
    "steps = 0\n",
    "eval_results_o = []\n",
    "eval_results_x = []\n",
    "# fill reply memory\n",
    "for _ in range(1000):\n",
    "    game_manager_dqn.run_episode()\n",
    "for i in range(100):\n",
    "    eval_x = []\n",
    "    eval_o = []\n",
    "    for j in range(5000):\n",
    "        game_manager_dqn.run_episode()\n",
    "        steps += 1\n",
    "        if steps % STEPS_PER_UPDATE == 0:\n",
    "            game_manager_dqn.update_weights()\n",
    "        if steps % STEPS_PER_UPDATE_TARGET == 0:\n",
    "            game_manager_dqn.dqn.update_target_network()\n",
    "    for _ in range(100):\n",
    "        eval_x.append(game_manager_dqn.evaluate_episode_with_random(1))\n",
    "    for _ in range(100):\n",
    "        eval_o.append(game_manager_dqn.evaluate_episode_with_random(0))\n",
    "    mean_x = np.mean(eval_x)\n",
    "    mean_o = -1 * np.mean(eval_o)\n",
    "    print(mean_x, mean_o)\n",
    "    eval_results_x.append(mean_x)\n",
    "    eval_results_o.append(mean_o)"
   ]
  },
  {
   "cell_type": "code",
   "execution_count": 547,
   "id": "beea4a4f",
   "metadata": {
    "ExecuteTime": {
     "end_time": "2021-10-31T19:13:17.270044Z",
     "start_time": "2021-10-31T19:13:17.258121Z"
    }
   },
   "outputs": [],
   "source": [
    "with open(\"dqn_model.pth\", \"wb\") as fp:\n",
    "    torch.save(game_manager_dqn.dqn.model.state_dict(), fp)"
   ]
  },
  {
   "cell_type": "code",
   "execution_count": 548,
   "id": "3b657a84",
   "metadata": {
    "ExecuteTime": {
     "end_time": "2021-10-31T19:13:22.536453Z",
     "start_time": "2021-10-31T19:13:22.520852Z"
    }
   },
   "outputs": [
    {
     "data": {
      "text/plain": [
       "<All keys matched successfully>"
      ]
     },
     "execution_count": 548,
     "metadata": {},
     "output_type": "execute_result"
    }
   ],
   "source": [
    "with open(\"dqn_model.pth\", \"rb\") as fp:\n",
    "    state_dict = torch.load(fp, map_location=\"cpu\")\n",
    "game_manager_dqn.dqn.model.load_state_dict(state_dict)"
   ]
  },
  {
   "cell_type": "code",
   "execution_count": null,
   "id": "56425111",
   "metadata": {},
   "outputs": [],
   "source": []
  },
  {
   "cell_type": "markdown",
   "id": "7b6349be",
   "metadata": {},
   "source": [
    "# end"
   ]
  },
  {
   "cell_type": "code",
   "execution_count": null,
   "id": "ac2a97b9",
   "metadata": {},
   "outputs": [],
   "source": []
  }
 ],
 "metadata": {
  "kernelspec": {
   "display_name": "Python 3",
   "language": "python",
   "name": "python3"
  },
  "language_info": {
   "codemirror_mode": {
    "name": "ipython",
    "version": 3
   },
   "file_extension": ".py",
   "mimetype": "text/x-python",
   "name": "python",
   "nbconvert_exporter": "python",
   "pygments_lexer": "ipython3",
   "version": "3.7.10"
  },
  "toc": {
   "base_numbering": 1,
   "nav_menu": {},
   "number_sections": true,
   "sideBar": true,
   "skip_h1_title": false,
   "title_cell": "Table of Contents",
   "title_sidebar": "Contents",
   "toc_cell": false,
   "toc_position": {},
   "toc_section_display": true,
   "toc_window_display": true
  },
  "varInspector": {
   "cols": {
    "lenName": 16,
    "lenType": 16,
    "lenVar": 40
   },
   "kernels_config": {
    "python": {
     "delete_cmd_postfix": "",
     "delete_cmd_prefix": "del ",
     "library": "var_list.py",
     "varRefreshCmd": "print(var_dic_list())"
    },
    "r": {
     "delete_cmd_postfix": ") ",
     "delete_cmd_prefix": "rm(",
     "library": "var_list.r",
     "varRefreshCmd": "cat(var_dic_list()) "
    }
   },
   "types_to_exclude": [
    "module",
    "function",
    "builtin_function_or_method",
    "instance",
    "_Feature"
   ],
   "window_display": false
  }
 },
 "nbformat": 4,
 "nbformat_minor": 5
}
